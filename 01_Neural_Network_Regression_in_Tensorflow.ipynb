{
  "nbformat": 4,
  "nbformat_minor": 0,
  "metadata": {
    "colab": {
      "name": "01_Neural_Network_Regression_in_Tensorflow.ipynb",
      "provenance": [],
      "collapsed_sections": [],
      "toc_visible": true
    },
    "kernelspec": {
      "name": "python3",
      "display_name": "Python 3"
    },
    "language_info": {
      "name": "python"
    }
  },
  "cells": [
    {
      "cell_type": "code",
      "metadata": {
        "colab": {
          "base_uri": "https://localhost:8080/"
        },
        "id": "mjwCOIaKBkUi",
        "outputId": "5650f7cb-6fe8-4970-9664-990c4bb2803b"
      },
      "source": [
        "import tensorflow as tf\n",
        "print(tf.__version__)"
      ],
      "execution_count": 10,
      "outputs": [
        {
          "output_type": "stream",
          "text": [
            "2.5.0\n"
          ],
          "name": "stdout"
        }
      ]
    },
    {
      "cell_type": "markdown",
      "metadata": {
        "id": "xWBTZiJu69ij"
      },
      "source": [
        "# Introduction to Neural Networks for Regression (Outcome is 1)\n",
        "\n",
        "\n",
        "*   How much or How many????\n",
        "*   ML algo needs input in form of numbers. strings are needed to be one hot encoded or label encoded.\n"
      ]
    },
    {
      "cell_type": "markdown",
      "metadata": {
        "id": "yR7jqAIsDBBu"
      },
      "source": [
        "## Typical architecture of a regresison neural network\n",
        "\n",
        "The word *typical* is on purpose.\n",
        "\n",
        "Why?\n",
        "\n",
        "Because there are many different ways (actually, there's almost an infinite number of ways) to write neural networks.\n",
        "\n",
        "But the following is a generic setup for ingesting a collection of numbers, finding patterns in them and then outputing some kind of target number.\n",
        "\n",
        "Yes, the previous sentence is vague but we'll see this in action shortly.\n",
        "\n",
        "| **Hyperparameter** | **Typical value** |\n",
        "| --- | --- |\n",
        "| Input layer shape | Same shape as number of features (e.g. 3 for # bedrooms, # bathrooms, # car spaces in housing price prediction) |\n",
        "| Hidden layer(s) | Problem specific, minimum = 1, maximum = unlimited |\n",
        "| Neurons per hidden layer | Problem specific, generally 10 to 100 |\n",
        "| Output layer shape | Same shape as desired prediction shape (e.g. 1 for house price) |\n",
        "| Hidden activation | Usually [ReLU](https://www.kaggle.com/dansbecker/rectified-linear-units-relu-in-deep-learning) (rectified linear unit) |\n",
        "| Output activation | None, ReLU, logistic/tanh |\n",
        "| Loss function | [MSE](https://en.wikipedia.org/wiki/Mean_squared_error) (mean square error) or [MAE](https://en.wikipedia.org/wiki/Mean_absolute_error) (mean absolute error)/Huber (combination of MAE/MSE) if outliers |\n",
        "| Optimizer | [SGD](https://www.tensorflow.org/api_docs/python/tf/keras/optimizers/SGD) (stochastic gradient descent), [Adam](https://www.tensorflow.org/api_docs/python/tf/keras/optimizers/Adam) |\n",
        "\n",
        "***Table 1:*** *Typical architecture of a regression network.* ***Source:*** *Adapted from page 293 of [Hands-On Machine Learning with Scikit-Learn, Keras & TensorFlow Book by Aurélien Géron](https://www.oreilly.com/library/view/hands-on-machine-learning/9781492032632/)*\n",
        "\n",
        "Again, if you're new to neural networks and deep learning in general, much of the above table won't make sense. But don't worry, we'll be getting hands-on with all of it soon.\n",
        "\n",
        "> 🔑 **Note:** A **hyperparameter** in machine learning is something a data analyst or developer can set themselves, where as a **parameter** usually describes something a model learns on its own (a value not explicitly set by an analyst).\n",
        "\n",
        "Okay, enough talk, let's get started writing code.\n",
        "\n",
        "To use TensorFlow, we'll import it as the common alias `tf` (short for TensorFlow)."
      ]
    },
    {
      "cell_type": "markdown",
      "metadata": {
        "id": "JWLtgs0lDBAc"
      },
      "source": [
        ""
      ]
    },
    {
      "cell_type": "markdown",
      "metadata": {
        "id": "eNKzX3Zr7Vjc"
      },
      "source": [
        "## Creating data to view and fit"
      ]
    },
    {
      "cell_type": "code",
      "metadata": {
        "id": "3HQyV7pfCD--"
      },
      "source": [
        "import numpy as np\n",
        "import matplotlib.pyplot as plt"
      ],
      "execution_count": 11,
      "outputs": []
    },
    {
      "cell_type": "code",
      "metadata": {
        "colab": {
          "base_uri": "https://localhost:8080/",
          "height": 269
        },
        "id": "35zKCdzhCHWF",
        "outputId": "56c7f2c4-81eb-4365-d24c-550060304f5c"
      },
      "source": [
        "# Create features\n",
        "X = np.array([-7.0, -4.0, -1.0, 2.0, 5.0, 8.0, 11.0, 14.0])\n",
        "\n",
        "# Create labels\n",
        "y = np.array([3.0, 6.0, 9.0, 12.0, 15.0, 18.0, 21.0, 24.0])\n",
        "\n",
        "# Visualize it\n",
        "plt.scatter(X, y);"
      ],
      "execution_count": 12,
      "outputs": [
        {
          "output_type": "display_data",
          "data": {
            "image/png": "[encoded data removed]",
            "text/plain": [
              "<Figure size 432x288 with 1 Axes>"
            ]
          },
          "metadata": {
            "tags": [],
            "needs_background": "light"
          }
        }
      ]
    },
    {
      "cell_type": "markdown",
      "metadata": {
        "id": "nAJHihVfCf3I"
      },
      "source": [
        "## Input and Output \n",
        "\n",
        "\n",
        "*  The input shape is the shape of your data that goes into the model.\n",
        "\n",
        "*  The output shape is the shape of your data you want to come out of your model.\n",
        "\n"
      ]
    },
    {
      "cell_type": "code",
      "metadata": {
        "colab": {
          "base_uri": "https://localhost:8080/"
        },
        "id": "2ceLAlAiDcGN",
        "outputId": "82f102b9-d699-4e9d-e6dc-f983ded90347"
      },
      "source": [
        "house_info = tf.constant([\"bedroom\", \"bathroom\", \"garage\"])\n",
        "house_price = tf.constant([939700])\n",
        "house_info, house_price"
      ],
      "execution_count": 13,
      "outputs": [
        {
          "output_type": "execute_result",
          "data": {
            "text/plain": [
              "(<tf.Tensor: shape=(3,), dtype=string, numpy=array([b'bedroom', b'bathroom', b'garage'], dtype=object)>,\n",
              " <tf.Tensor: shape=(1,), dtype=int32, numpy=array([939700], dtype=int32)>)"
            ]
          },
          "metadata": {
            "tags": []
          },
          "execution_count": 13
        }
      ]
    },
    {
      "cell_type": "code",
      "metadata": {
        "colab": {
          "base_uri": "https://localhost:8080/",
          "height": 286
        },
        "id": "h71wXQ-GFbhE",
        "outputId": "459fdb9e-1d22-4744-c76e-552d30582cc2"
      },
      "source": [
        "plt.scatter(X,y)"
      ],
      "execution_count": 14,
      "outputs": [
        {
          "output_type": "execute_result",
          "data": {
            "text/plain": [
              "<matplotlib.collections.PathCollection at 0x7f893ffd0310>"
            ]
          },
          "metadata": {
            "tags": []
          },
          "execution_count": 14
        },
        {
          "output_type": "display_data",
          "data": {
            "image/png": "[encoded data removed]",
            "text/plain": [
              "<Figure size 432x288 with 1 Axes>"
            ]
          },
          "metadata": {
            "tags": [],
            "needs_background": "light"
          }
        }
      ]
    },
    {
      "cell_type": "code",
      "metadata": {
        "id": "q9XCuc8QGrym"
      },
      "source": [
        "X = tf.cast(tf.constant(X),dtype = 'float32')\n",
        "y = tf.cast(tf.constant(y),dtype = 'float32')\n"
      ],
      "execution_count": 15,
      "outputs": []
    },
    {
      "cell_type": "code",
      "metadata": {
        "colab": {
          "base_uri": "https://localhost:8080/"
        },
        "id": "cHblMRkyFyk9",
        "outputId": "51c2628e-74b6-4625-b5b4-79d39f9c1632"
      },
      "source": [
        "# Take a single example of X\n",
        "input_shape = X[0].shape \n",
        "\n",
        "# Take a single example of y\n",
        "output_shape = y[0].shape\n",
        "\n",
        "input_shape, output_shape # these are both scalars (no shape)"
      ],
      "execution_count": 16,
      "outputs": [
        {
          "output_type": "execute_result",
          "data": {
            "text/plain": [
              "(TensorShape([]), TensorShape([]))"
            ]
          },
          "metadata": {
            "tags": []
          },
          "execution_count": 16
        }
      ]
    },
    {
      "cell_type": "markdown",
      "metadata": {
        "id": "w1BQfv21GAwn"
      },
      "source": [
        "## Steps in modelling\n",
        "\n",
        "Now we know what data we have as well as the input and output shapes, let's see how we'd build a neural network to model it.\n",
        "\n",
        "In TensorFlow, there are typically 3 fundamental steps to creating and training a model.\n",
        "\n",
        "1. **Creating a model** - piece together the layers of a neural network yourself (using the [Functional](https://www.tensorflow.org/guide/keras/functional) or [Sequential API](https://www.tensorflow.org/api_docs/python/tf/keras/Sequential)) or import a previously built model (known as transfer learning).\n",
        "2. **Compiling a model** - defining how a models performance should be measured (loss/metrics) as well as defining how it should improve (optimizer). \n",
        "3. **Fitting a model** - letting the model try to find patterns in the data (how does `X` get to `y`). \n",
        "\n",
        "Let's see these in action using the [Keras Sequential API](https://www.tensorflow.org/api_docs/python/tf/keras/Sequential) to build a model for our regression data. And then we'll step through each.\n"
      ]
    },
    {
      "cell_type": "code",
      "metadata": {
        "colab": {
          "base_uri": "https://localhost:8080/"
        },
        "id": "hDRzopKGGRCF",
        "outputId": "77e7ab1b-dcb7-4636-f8ca-1a97b72c2d35"
      },
      "source": [
        "#set random seed\n",
        "tf.random.set_seed(40)\n",
        "\n",
        "# 1. create the model using keras library in tensorflow\n",
        "model = tf.keras.Sequential([\n",
        "    tf.keras.layers.Dense(1)\n",
        "])\n",
        "\n",
        "# 2. compile the model \n",
        "model.compile(loss = 'mae', # Mean absolute error\n",
        "              optimizer = 'sgd', # Stochastic Gradient Descent\n",
        "              metrics = ['mae'])\n",
        "\n",
        "# 3. fir the model \n",
        "model.fit(X,y,epochs = 5)"
      ],
      "execution_count": 17,
      "outputs": [
        {
          "output_type": "stream",
          "text": [
            "Epoch 1/5\n",
            "1/1 [==============================] - 0s 237ms/step - loss: 12.9528 - mae: 12.9528\n",
            "Epoch 2/5\n",
            "1/1 [==============================] - 0s 5ms/step - loss: 12.8203 - mae: 12.8203\n",
            "Epoch 3/5\n",
            "1/1 [==============================] - 0s 6ms/step - loss: 12.6878 - mae: 12.6878\n",
            "Epoch 4/5\n",
            "1/1 [==============================] - 0s 3ms/step - loss: 12.5553 - mae: 12.5553\n",
            "Epoch 5/5\n",
            "1/1 [==============================] - 0s 4ms/step - loss: 12.4228 - mae: 12.4228\n"
          ],
          "name": "stdout"
        },
        {
          "output_type": "execute_result",
          "data": {
            "text/plain": [
              "<tensorflow.python.keras.callbacks.History at 0x7f893ffa8510>"
            ]
          },
          "metadata": {
            "tags": []
          },
          "execution_count": 17
        }
      ]
    },
    {
      "cell_type": "code",
      "metadata": {
        "id": "d9724UhGHRoV",
        "colab": {
          "base_uri": "https://localhost:8080/"
        },
        "outputId": "85c7bbeb-906d-43b0-b5f6-15cb08a7b971"
      },
      "source": [
        "y_pred = model.predict([17.0])\n",
        "y_pred"
      ],
      "execution_count": 18,
      "outputs": [
        {
          "output_type": "execute_result",
          "data": {
            "text/plain": [
              "array([[5.6827435]], dtype=float32)"
            ]
          },
          "metadata": {
            "tags": []
          },
          "execution_count": 18
        }
      ]
    },
    {
      "cell_type": "markdown",
      "metadata": {
        "id": "czsi-c52JEMM"
      },
      "source": [
        "## Improving a model\n",
        "\n",
        "How do you think you'd improve upon our current model?\n",
        "\n",
        "If you guessed by tweaking some of the things we did above, you'd be correct.\n",
        "\n",
        "To improve our model, we alter almost every part of the 3 steps we went through before.\n",
        "\n",
        "1. **Creating a model** - here you might want to add more layers, increase the number of hidden units (also called neurons) within each layer, change the activation functions of each layer.\n",
        "2. **Compiling a model** - you might want to choose optimization function or perhaps change the **learning rate** of the optimization function.\n",
        "3. **Fitting a model** - perhaps you could fit a model for more **epochs** (leave it training for longer) or on more data (give the model more examples to learn from).\n",
        "\n",
        "Woah. We just introduced a bunch of possible steps. The important thing to remember is how you alter each of these will depend on the problem you're working on.\n",
        "\n",
        "And the good thing is, over the next few problems, we'll get hands-on with all of them.\n",
        "\n",
        "For now, let's keep it simple, all we'll do is train our model for longer (everything else will stay the same)."
      ]
    },
    {
      "cell_type": "code",
      "metadata": {
        "colab": {
          "base_uri": "https://localhost:8080/"
        },
        "id": "ABIJnYpe_C2Z",
        "outputId": "d5b292de-c5e6-435e-d05e-efa0e55e94f4"
      },
      "source": [
        "#increasing the number of epochs\n",
        "\n",
        "# 1. creating the model\n",
        "model = tf.keras.Sequential([\n",
        "    tf.keras.layers.Dense(1)\n",
        "])\n",
        "\n",
        "# 2. Compiling the model \n",
        "model.compile(loss='mae',\n",
        "              optimizer = 'sgd',\n",
        "              metrics = ['mae'])\n",
        "\n",
        "# 3. fit the model\n",
        "model.fit(X,y,epochs = 100)"
      ],
      "execution_count": 39,
      "outputs": [
        {
          "output_type": "stream",
          "text": [
            "Epoch 1/100\n",
            "1/1 [==============================] - 0s 241ms/step - loss: 14.1314 - mae: 14.1314\n",
            "Epoch 2/100\n",
            "1/1 [==============================] - 0s 4ms/step - loss: 13.9989 - mae: 13.9989\n",
            "Epoch 3/100\n",
            "1/1 [==============================] - 0s 4ms/step - loss: 13.8664 - mae: 13.8664\n",
            "Epoch 4/100\n",
            "1/1 [==============================] - 0s 8ms/step - loss: 13.7339 - mae: 13.7339\n",
            "Epoch 5/100\n",
            "1/1 [==============================] - 0s 5ms/step - loss: 13.6014 - mae: 13.6014\n",
            "Epoch 6/100\n",
            "1/1 [==============================] - 0s 10ms/step - loss: 13.4689 - mae: 13.4689\n",
            "Epoch 7/100\n",
            "1/1 [==============================] - 0s 6ms/step - loss: 13.3364 - mae: 13.3364\n",
            "Epoch 8/100\n",
            "1/1 [==============================] - 0s 8ms/step - loss: 13.2039 - mae: 13.2039\n",
            "Epoch 9/100\n",
            "1/1 [==============================] - 0s 5ms/step - loss: 13.0714 - mae: 13.0714\n",
            "Epoch 10/100\n",
            "1/1 [==============================] - 0s 6ms/step - loss: 12.9389 - mae: 12.9389\n",
            "Epoch 11/100\n",
            "1/1 [==============================] - 0s 4ms/step - loss: 12.8064 - mae: 12.8064\n",
            "Epoch 12/100\n",
            "1/1 [==============================] - 0s 4ms/step - loss: 12.6739 - mae: 12.6739\n",
            "Epoch 13/100\n",
            "1/1 [==============================] - 0s 5ms/step - loss: 12.5414 - mae: 12.5414\n",
            "Epoch 14/100\n",
            "1/1 [==============================] - 0s 6ms/step - loss: 12.4089 - mae: 12.4089\n",
            "Epoch 15/100\n",
            "1/1 [==============================] - 0s 3ms/step - loss: 12.2764 - mae: 12.2764\n",
            "Epoch 16/100\n",
            "1/1 [==============================] - 0s 3ms/step - loss: 12.1439 - mae: 12.1439\n",
            "Epoch 17/100\n",
            "1/1 [==============================] - 0s 4ms/step - loss: 12.0114 - mae: 12.0114\n",
            "Epoch 18/100\n",
            "1/1 [==============================] - 0s 3ms/step - loss: 11.8789 - mae: 11.8789\n",
            "Epoch 19/100\n",
            "1/1 [==============================] - 0s 9ms/step - loss: 11.7464 - mae: 11.7464\n",
            "Epoch 20/100\n",
            "1/1 [==============================] - 0s 5ms/step - loss: 11.6139 - mae: 11.6139\n",
            "Epoch 21/100\n",
            "1/1 [==============================] - 0s 5ms/step - loss: 11.4814 - mae: 11.4814\n",
            "Epoch 22/100\n",
            "1/1 [==============================] - 0s 5ms/step - loss: 11.3489 - mae: 11.3489\n",
            "Epoch 23/100\n",
            "1/1 [==============================] - 0s 5ms/step - loss: 11.2164 - mae: 11.2164\n",
            "Epoch 24/100\n",
            "1/1 [==============================] - 0s 7ms/step - loss: 11.0839 - mae: 11.0839\n",
            "Epoch 25/100\n",
            "1/1 [==============================] - 0s 5ms/step - loss: 10.9514 - mae: 10.9514\n",
            "Epoch 26/100\n",
            "1/1 [==============================] - 0s 8ms/step - loss: 10.8189 - mae: 10.8189\n",
            "Epoch 27/100\n",
            "1/1 [==============================] - 0s 5ms/step - loss: 10.6864 - mae: 10.6864\n",
            "Epoch 28/100\n",
            "1/1 [==============================] - 0s 16ms/step - loss: 10.5539 - mae: 10.5539\n",
            "Epoch 29/100\n",
            "1/1 [==============================] - 0s 5ms/step - loss: 10.4214 - mae: 10.4214\n",
            "Epoch 30/100\n",
            "1/1 [==============================] - 0s 4ms/step - loss: 10.2889 - mae: 10.2889\n",
            "Epoch 31/100\n",
            "1/1 [==============================] - 0s 4ms/step - loss: 10.1564 - mae: 10.1564\n",
            "Epoch 32/100\n",
            "1/1 [==============================] - 0s 4ms/step - loss: 10.0239 - mae: 10.0239\n",
            "Epoch 33/100\n",
            "1/1 [==============================] - 0s 4ms/step - loss: 9.8914 - mae: 9.8914\n",
            "Epoch 34/100\n",
            "1/1 [==============================] - 0s 4ms/step - loss: 9.7589 - mae: 9.7589\n",
            "Epoch 35/100\n",
            "1/1 [==============================] - 0s 7ms/step - loss: 9.6264 - mae: 9.6264\n",
            "Epoch 36/100\n",
            "1/1 [==============================] - 0s 6ms/step - loss: 9.4939 - mae: 9.4939\n",
            "Epoch 37/100\n",
            "1/1 [==============================] - 0s 4ms/step - loss: 9.3614 - mae: 9.3614\n",
            "Epoch 38/100\n",
            "1/1 [==============================] - 0s 5ms/step - loss: 9.2289 - mae: 9.2289\n",
            "Epoch 39/100\n",
            "1/1 [==============================] - 0s 7ms/step - loss: 9.0964 - mae: 9.0964\n",
            "Epoch 40/100\n",
            "1/1 [==============================] - 0s 6ms/step - loss: 8.9639 - mae: 8.9639\n",
            "Epoch 41/100\n",
            "1/1 [==============================] - 0s 6ms/step - loss: 8.8314 - mae: 8.8314\n",
            "Epoch 42/100\n",
            "1/1 [==============================] - 0s 8ms/step - loss: 8.6989 - mae: 8.6989\n",
            "Epoch 43/100\n",
            "1/1 [==============================] - 0s 7ms/step - loss: 8.5664 - mae: 8.5664\n",
            "Epoch 44/100\n",
            "1/1 [==============================] - 0s 7ms/step - loss: 8.4339 - mae: 8.4339\n",
            "Epoch 45/100\n",
            "1/1 [==============================] - 0s 5ms/step - loss: 8.3014 - mae: 8.3014\n",
            "Epoch 46/100\n",
            "1/1 [==============================] - 0s 5ms/step - loss: 8.1689 - mae: 8.1689\n",
            "Epoch 47/100\n",
            "1/1 [==============================] - 0s 6ms/step - loss: 8.0364 - mae: 8.0364\n",
            "Epoch 48/100\n",
            "1/1 [==============================] - 0s 4ms/step - loss: 7.9039 - mae: 7.9039\n",
            "Epoch 49/100\n",
            "1/1 [==============================] - 0s 7ms/step - loss: 7.7714 - mae: 7.7714\n",
            "Epoch 50/100\n",
            "1/1 [==============================] - 0s 5ms/step - loss: 7.6389 - mae: 7.6389\n",
            "Epoch 51/100\n",
            "1/1 [==============================] - 0s 10ms/step - loss: 7.5064 - mae: 7.5064\n",
            "Epoch 52/100\n",
            "1/1 [==============================] - 0s 7ms/step - loss: 7.3739 - mae: 7.3739\n",
            "Epoch 53/100\n",
            "1/1 [==============================] - 0s 9ms/step - loss: 7.2414 - mae: 7.2414\n",
            "Epoch 54/100\n",
            "1/1 [==============================] - 0s 7ms/step - loss: 7.1089 - mae: 7.1089\n",
            "Epoch 55/100\n",
            "1/1 [==============================] - 0s 5ms/step - loss: 7.0950 - mae: 7.0950\n",
            "Epoch 56/100\n",
            "1/1 [==============================] - 0s 8ms/step - loss: 7.0894 - mae: 7.0894\n",
            "Epoch 57/100\n",
            "1/1 [==============================] - 0s 7ms/step - loss: 7.0838 - mae: 7.0838\n",
            "Epoch 58/100\n",
            "1/1 [==============================] - 0s 6ms/step - loss: 7.0781 - mae: 7.0781\n",
            "Epoch 59/100\n",
            "1/1 [==============================] - 0s 18ms/step - loss: 7.0725 - mae: 7.0725\n",
            "Epoch 60/100\n",
            "1/1 [==============================] - 0s 7ms/step - loss: 7.0669 - mae: 7.0669\n",
            "Epoch 61/100\n",
            "1/1 [==============================] - 0s 7ms/step - loss: 7.0613 - mae: 7.0613\n",
            "Epoch 62/100\n",
            "1/1 [==============================] - 0s 4ms/step - loss: 7.0556 - mae: 7.0556\n",
            "Epoch 63/100\n",
            "1/1 [==============================] - 0s 6ms/step - loss: 7.0500 - mae: 7.0500\n",
            "Epoch 64/100\n",
            "1/1 [==============================] - 0s 4ms/step - loss: 7.0444 - mae: 7.0444\n",
            "Epoch 65/100\n",
            "1/1 [==============================] - 0s 9ms/step - loss: 7.0388 - mae: 7.0388\n",
            "Epoch 66/100\n",
            "1/1 [==============================] - 0s 6ms/step - loss: 7.0331 - mae: 7.0331\n",
            "Epoch 67/100\n",
            "1/1 [==============================] - 0s 4ms/step - loss: 7.0275 - mae: 7.0275\n",
            "Epoch 68/100\n",
            "1/1 [==============================] - 0s 5ms/step - loss: 7.0219 - mae: 7.0219\n",
            "Epoch 69/100\n",
            "1/1 [==============================] - 0s 6ms/step - loss: 7.0163 - mae: 7.0163\n",
            "Epoch 70/100\n",
            "1/1 [==============================] - 0s 9ms/step - loss: 7.0106 - mae: 7.0106\n",
            "Epoch 71/100\n",
            "1/1 [==============================] - 0s 4ms/step - loss: 7.0050 - mae: 7.0050\n",
            "Epoch 72/100\n",
            "1/1 [==============================] - 0s 6ms/step - loss: 6.9994 - mae: 6.9994\n",
            "Epoch 73/100\n",
            "1/1 [==============================] - 0s 5ms/step - loss: 6.9938 - mae: 6.9938\n",
            "Epoch 74/100\n",
            "1/1 [==============================] - 0s 7ms/step - loss: 6.9881 - mae: 6.9881\n",
            "Epoch 75/100\n",
            "1/1 [==============================] - 0s 4ms/step - loss: 6.9825 - mae: 6.9825\n",
            "Epoch 76/100\n",
            "1/1 [==============================] - 0s 7ms/step - loss: 6.9769 - mae: 6.9769\n",
            "Epoch 77/100\n",
            "1/1 [==============================] - 0s 4ms/step - loss: 6.9713 - mae: 6.9713\n",
            "Epoch 78/100\n",
            "1/1 [==============================] - 0s 4ms/step - loss: 6.9656 - mae: 6.9656\n",
            "Epoch 79/100\n",
            "1/1 [==============================] - 0s 6ms/step - loss: 6.9600 - mae: 6.9600\n",
            "Epoch 80/100\n",
            "1/1 [==============================] - 0s 8ms/step - loss: 6.9544 - mae: 6.9544\n",
            "Epoch 81/100\n",
            "1/1 [==============================] - 0s 4ms/step - loss: 6.9488 - mae: 6.9488\n",
            "Epoch 82/100\n",
            "1/1 [==============================] - 0s 4ms/step - loss: 6.9431 - mae: 6.9431\n",
            "Epoch 83/100\n",
            "1/1 [==============================] - 0s 6ms/step - loss: 6.9375 - mae: 6.9375\n",
            "Epoch 84/100\n",
            "1/1 [==============================] - 0s 4ms/step - loss: 6.9319 - mae: 6.9319\n",
            "Epoch 85/100\n",
            "1/1 [==============================] - 0s 7ms/step - loss: 6.9263 - mae: 6.9263\n",
            "Epoch 86/100\n",
            "1/1 [==============================] - 0s 4ms/step - loss: 6.9206 - mae: 6.9206\n",
            "Epoch 87/100\n",
            "1/1 [==============================] - 0s 7ms/step - loss: 6.9150 - mae: 6.9150\n",
            "Epoch 88/100\n",
            "1/1 [==============================] - 0s 4ms/step - loss: 6.9094 - mae: 6.9094\n",
            "Epoch 89/100\n",
            "1/1 [==============================] - 0s 4ms/step - loss: 6.9038 - mae: 6.9038\n",
            "Epoch 90/100\n",
            "1/1 [==============================] - 0s 6ms/step - loss: 6.8981 - mae: 6.8981\n",
            "Epoch 91/100\n",
            "1/1 [==============================] - 0s 4ms/step - loss: 6.8925 - mae: 6.8925\n",
            "Epoch 92/100\n",
            "1/1 [==============================] - 0s 7ms/step - loss: 6.8869 - mae: 6.8869\n",
            "Epoch 93/100\n",
            "1/1 [==============================] - 0s 4ms/step - loss: 6.8812 - mae: 6.8812\n",
            "Epoch 94/100\n",
            "1/1 [==============================] - 0s 4ms/step - loss: 6.8756 - mae: 6.8756\n",
            "Epoch 95/100\n",
            "1/1 [==============================] - 0s 6ms/step - loss: 6.8700 - mae: 6.8700\n",
            "Epoch 96/100\n",
            "1/1 [==============================] - 0s 4ms/step - loss: 6.8644 - mae: 6.8644\n",
            "Epoch 97/100\n",
            "1/1 [==============================] - 0s 4ms/step - loss: 6.8588 - mae: 6.8588\n",
            "Epoch 98/100\n",
            "1/1 [==============================] - 0s 8ms/step - loss: 6.8531 - mae: 6.8531\n",
            "Epoch 99/100\n",
            "1/1 [==============================] - 0s 3ms/step - loss: 6.8475 - mae: 6.8475\n",
            "Epoch 100/100\n",
            "1/1 [==============================] - 0s 3ms/step - loss: 6.8419 - mae: 6.8419\n"
          ],
          "name": "stdout"
        },
        {
          "output_type": "execute_result",
          "data": {
            "text/plain": [
              "<tensorflow.python.keras.callbacks.History at 0x7f8934b74310>"
            ]
          },
          "metadata": {
            "tags": []
          },
          "execution_count": 39
        }
      ]
    },
    {
      "cell_type": "code",
      "metadata": {
        "colab": {
          "base_uri": "https://localhost:8080/"
        },
        "id": "Q4AqKAI1U2ga",
        "outputId": "ee3af4b5-4b18-4749-eb18-9e13aa96ef7a"
      },
      "source": [
        "#predict the value\n",
        "y_pred = model.predict([17])\n",
        "y_pred\n",
        "\n"
      ],
      "execution_count": 40,
      "outputs": [
        {
          "output_type": "execute_result",
          "data": {
            "text/plain": [
              "array([[29.948065]], dtype=float32)"
            ]
          },
          "metadata": {
            "tags": []
          },
          "execution_count": 40
        }
      ]
    },
    {
      "cell_type": "markdown",
      "metadata": {
        "id": "gmZva2csVF-S"
      },
      "source": [
        "**Still not that accurate even after increasing the epochs**"
      ]
    },
    {
      "cell_type": "code",
      "metadata": {
        "colab": {
          "base_uri": "https://localhost:8080/"
        },
        "id": "njqZNSoRVR5x",
        "outputId": "d2f2b6f9-1f6e-40b5-cf4e-ce54e56c6ae6"
      },
      "source": [
        "#Adding a hidden layer with 100 units else to make the model run more accurately\n",
        "\n",
        "# 1. creating the model\n",
        "model = tf.keras.Sequential([\n",
        "    tf.keras.layers.Dense(100,activation='relu'),\n",
        "    tf.keras.layers.Dense(1)\n",
        "])\n",
        "\n",
        "# 2. compiling the model \n",
        "model.compile(loss = tf.losses.mae,\n",
        "             optimizer = 'sgd',\n",
        "             metrics = ['mae'])\n",
        "# 3. fitting the model\n",
        "model.fit(X, y, epochs = 100)"
      ],
      "execution_count": 44,
      "outputs": [
        {
          "output_type": "stream",
          "text": [
            "Epoch 1/100\n",
            "1/1 [==============================] - 0s 279ms/step - loss: 13.4021 - mae: 13.4021\n",
            "Epoch 2/100\n",
            "1/1 [==============================] - 0s 6ms/step - loss: 12.7844 - mae: 12.7844\n",
            "Epoch 3/100\n",
            "1/1 [==============================] - 0s 7ms/step - loss: 12.1620 - mae: 12.1620\n",
            "Epoch 4/100\n",
            "1/1 [==============================] - 0s 5ms/step - loss: 11.5427 - mae: 11.5427\n",
            "Epoch 5/100\n",
            "1/1 [==============================] - 0s 6ms/step - loss: 10.9128 - mae: 10.9128\n",
            "Epoch 6/100\n",
            "1/1 [==============================] - 0s 6ms/step - loss: 10.2700 - mae: 10.2700\n",
            "Epoch 7/100\n",
            "1/1 [==============================] - 0s 6ms/step - loss: 9.6009 - mae: 9.6009\n",
            "Epoch 8/100\n",
            "1/1 [==============================] - 0s 6ms/step - loss: 8.8986 - mae: 8.8986\n",
            "Epoch 9/100\n",
            "1/1 [==============================] - 0s 6ms/step - loss: 8.1603 - mae: 8.1603\n",
            "Epoch 10/100\n",
            "1/1 [==============================] - 0s 6ms/step - loss: 7.3741 - mae: 7.3741\n",
            "Epoch 11/100\n",
            "1/1 [==============================] - 0s 4ms/step - loss: 6.5443 - mae: 6.5443\n",
            "Epoch 12/100\n",
            "1/1 [==============================] - 0s 6ms/step - loss: 5.6619 - mae: 5.6619\n",
            "Epoch 13/100\n",
            "1/1 [==============================] - 0s 6ms/step - loss: 4.7097 - mae: 4.7097\n",
            "Epoch 14/100\n",
            "1/1 [==============================] - 0s 6ms/step - loss: 4.1034 - mae: 4.1034\n",
            "Epoch 15/100\n",
            "1/1 [==============================] - 0s 4ms/step - loss: 3.9530 - mae: 3.9530\n",
            "Epoch 16/100\n",
            "1/1 [==============================] - 0s 4ms/step - loss: 3.9679 - mae: 3.9679\n",
            "Epoch 17/100\n",
            "1/1 [==============================] - 0s 8ms/step - loss: 3.9003 - mae: 3.9003\n",
            "Epoch 18/100\n",
            "1/1 [==============================] - 0s 10ms/step - loss: 3.9659 - mae: 3.9659\n",
            "Epoch 19/100\n",
            "1/1 [==============================] - 0s 6ms/step - loss: 3.9128 - mae: 3.9128\n",
            "Epoch 20/100\n",
            "1/1 [==============================] - 0s 7ms/step - loss: 3.9400 - mae: 3.9400\n",
            "Epoch 21/100\n",
            "1/1 [==============================] - 0s 7ms/step - loss: 3.9196 - mae: 3.9196\n",
            "Epoch 22/100\n",
            "1/1 [==============================] - 0s 6ms/step - loss: 3.9140 - mae: 3.9140\n",
            "Epoch 23/100\n",
            "1/1 [==============================] - 0s 7ms/step - loss: 3.9265 - mae: 3.9265\n",
            "Epoch 24/100\n",
            "1/1 [==============================] - 0s 6ms/step - loss: 3.8879 - mae: 3.8879\n",
            "Epoch 25/100\n",
            "1/1 [==============================] - 0s 7ms/step - loss: 3.9345 - mae: 3.9345\n",
            "Epoch 26/100\n",
            "1/1 [==============================] - 0s 7ms/step - loss: 3.8727 - mae: 3.8727\n",
            "Epoch 27/100\n",
            "1/1 [==============================] - 0s 4ms/step - loss: 3.9445 - mae: 3.9445\n",
            "Epoch 28/100\n",
            "1/1 [==============================] - 0s 6ms/step - loss: 3.8798 - mae: 3.8798\n",
            "Epoch 29/100\n",
            "1/1 [==============================] - 0s 6ms/step - loss: 3.9184 - mae: 3.9184\n",
            "Epoch 30/100\n",
            "1/1 [==============================] - 0s 6ms/step - loss: 3.8868 - mae: 3.8868\n",
            "Epoch 31/100\n",
            "1/1 [==============================] - 0s 5ms/step - loss: 3.8921 - mae: 3.8921\n",
            "Epoch 32/100\n",
            "1/1 [==============================] - 0s 7ms/step - loss: 3.8939 - mae: 3.8939\n",
            "Epoch 33/100\n",
            "1/1 [==============================] - 0s 5ms/step - loss: 3.8660 - mae: 3.8660\n",
            "Epoch 34/100\n",
            "1/1 [==============================] - 0s 6ms/step - loss: 3.9096 - mae: 3.9096\n",
            "Epoch 35/100\n",
            "1/1 [==============================] - 0s 7ms/step - loss: 3.8469 - mae: 3.8469\n",
            "Epoch 36/100\n",
            "1/1 [==============================] - 0s 5ms/step - loss: 3.9169 - mae: 3.9169\n",
            "Epoch 37/100\n",
            "1/1 [==============================] - 0s 7ms/step - loss: 3.8481 - mae: 3.8481\n",
            "Epoch 38/100\n",
            "1/1 [==============================] - 0s 7ms/step - loss: 3.8952 - mae: 3.8952\n",
            "Epoch 39/100\n",
            "1/1 [==============================] - 0s 7ms/step - loss: 3.8554 - mae: 3.8554\n",
            "Epoch 40/100\n",
            "1/1 [==============================] - 0s 6ms/step - loss: 3.8686 - mae: 3.8686\n",
            "Epoch 41/100\n",
            "1/1 [==============================] - 0s 7ms/step - loss: 3.8627 - mae: 3.8627\n",
            "Epoch 42/100\n",
            "1/1 [==============================] - 0s 4ms/step - loss: 3.8490 - mae: 3.8490\n",
            "Epoch 43/100\n",
            "1/1 [==============================] - 0s 4ms/step - loss: 3.8786 - mae: 3.8786\n",
            "Epoch 44/100\n",
            "1/1 [==============================] - 0s 5ms/step - loss: 3.8228 - mae: 3.8228\n",
            "Epoch 45/100\n",
            "1/1 [==============================] - 0s 6ms/step - loss: 3.8861 - mae: 3.8861\n",
            "Epoch 46/100\n",
            "1/1 [==============================] - 0s 5ms/step - loss: 3.8177 - mae: 3.8177\n",
            "Epoch 47/100\n",
            "1/1 [==============================] - 0s 6ms/step - loss: 3.8707 - mae: 3.8707\n",
            "Epoch 48/100\n",
            "1/1 [==============================] - 0s 4ms/step - loss: 3.8252 - mae: 3.8252\n",
            "Epoch 49/100\n",
            "1/1 [==============================] - 0s 5ms/step - loss: 3.8436 - mae: 3.8436\n",
            "Epoch 50/100\n",
            "1/1 [==============================] - 0s 5ms/step - loss: 3.8382 - mae: 3.8382\n",
            "Epoch 51/100\n",
            "1/1 [==============================] - 0s 7ms/step - loss: 3.8244 - mae: 3.8244\n",
            "Epoch 52/100\n",
            "1/1 [==============================] - 0s 3ms/step - loss: 3.8490 - mae: 3.8490\n",
            "Epoch 53/100\n",
            "1/1 [==============================] - 0s 5ms/step - loss: 3.7972 - mae: 3.7972\n",
            "Epoch 54/100\n",
            "1/1 [==============================] - 0s 6ms/step - loss: 3.8567 - mae: 3.8567\n",
            "Epoch 55/100\n",
            "1/1 [==============================] - 0s 5ms/step - loss: 3.7886 - mae: 3.7886\n",
            "Epoch 56/100\n",
            "1/1 [==============================] - 0s 6ms/step - loss: 3.8447 - mae: 3.8447\n",
            "Epoch 57/100\n",
            "1/1 [==============================] - 0s 9ms/step - loss: 3.7963 - mae: 3.7963\n",
            "Epoch 58/100\n",
            "1/1 [==============================] - 0s 5ms/step - loss: 3.8212 - mae: 3.8212\n",
            "Epoch 59/100\n",
            "1/1 [==============================] - 0s 6ms/step - loss: 3.8126 - mae: 3.8126\n",
            "Epoch 60/100\n",
            "1/1 [==============================] - 0s 7ms/step - loss: 3.7977 - mae: 3.7977\n",
            "Epoch 61/100\n",
            "1/1 [==============================] - 0s 6ms/step - loss: 3.8204 - mae: 3.8204\n",
            "Epoch 62/100\n",
            "1/1 [==============================] - 0s 5ms/step - loss: 3.7702 - mae: 3.7702\n",
            "Epoch 63/100\n",
            "1/1 [==============================] - 0s 6ms/step - loss: 3.8283 - mae: 3.8283\n",
            "Epoch 64/100\n",
            "1/1 [==============================] - 0s 7ms/step - loss: 3.7605 - mae: 3.7605\n",
            "Epoch 65/100\n",
            "1/1 [==============================] - 0s 6ms/step - loss: 3.8173 - mae: 3.8173\n",
            "Epoch 66/100\n",
            "1/1 [==============================] - 0s 7ms/step - loss: 3.7704 - mae: 3.7704\n",
            "Epoch 67/100\n",
            "1/1 [==============================] - 0s 4ms/step - loss: 3.7974 - mae: 3.7974\n",
            "Epoch 68/100\n",
            "1/1 [==============================] - 0s 6ms/step - loss: 3.7849 - mae: 3.7849\n",
            "Epoch 69/100\n",
            "1/1 [==============================] - 0s 5ms/step - loss: 3.7696 - mae: 3.7696\n",
            "Epoch 70/100\n",
            "1/1 [==============================] - 0s 6ms/step - loss: 3.7931 - mae: 3.7931\n",
            "Epoch 71/100\n",
            "1/1 [==============================] - 0s 4ms/step - loss: 3.7418 - mae: 3.7418\n",
            "Epoch 72/100\n",
            "1/1 [==============================] - 0s 5ms/step - loss: 3.8012 - mae: 3.8012\n",
            "Epoch 73/100\n",
            "1/1 [==============================] - 0s 4ms/step - loss: 3.7336 - mae: 3.7336\n",
            "Epoch 74/100\n",
            "1/1 [==============================] - 0s 8ms/step - loss: 3.7889 - mae: 3.7889\n",
            "Epoch 75/100\n",
            "1/1 [==============================] - 0s 6ms/step - loss: 3.7501 - mae: 3.7501\n",
            "Epoch 76/100\n",
            "1/1 [==============================] - 0s 7ms/step - loss: 3.7683 - mae: 3.7683\n",
            "Epoch 77/100\n",
            "1/1 [==============================] - 0s 6ms/step - loss: 3.7584 - mae: 3.7584\n",
            "Epoch 78/100\n",
            "1/1 [==============================] - 0s 5ms/step - loss: 3.7402 - mae: 3.7402\n",
            "Epoch 79/100\n",
            "1/1 [==============================] - 0s 13ms/step - loss: 3.7667 - mae: 3.7667\n",
            "Epoch 80/100\n",
            "1/1 [==============================] - 0s 7ms/step - loss: 3.7121 - mae: 3.7121\n",
            "Epoch 81/100\n",
            "1/1 [==============================] - 0s 5ms/step - loss: 3.7750 - mae: 3.7750\n",
            "Epoch 82/100\n",
            "1/1 [==============================] - 0s 5ms/step - loss: 3.7077 - mae: 3.7077\n",
            "Epoch 83/100\n",
            "1/1 [==============================] - 0s 6ms/step - loss: 3.7649 - mae: 3.7649\n",
            "Epoch 84/100\n",
            "1/1 [==============================] - 0s 14ms/step - loss: 3.7244 - mae: 3.7244\n",
            "Epoch 85/100\n",
            "1/1 [==============================] - 0s 6ms/step - loss: 3.7379 - mae: 3.7379\n",
            "Epoch 86/100\n",
            "1/1 [==============================] - 0s 4ms/step - loss: 3.7328 - mae: 3.7328\n",
            "Epoch 87/100\n",
            "1/1 [==============================] - 0s 6ms/step - loss: 3.7096 - mae: 3.7096\n",
            "Epoch 88/100\n",
            "1/1 [==============================] - 0s 5ms/step - loss: 3.7412 - mae: 3.7412\n",
            "Epoch 89/100\n",
            "1/1 [==============================] - 0s 7ms/step - loss: 3.6811 - mae: 3.6811\n",
            "Epoch 90/100\n",
            "1/1 [==============================] - 0s 7ms/step - loss: 3.7497 - mae: 3.7497\n",
            "Epoch 91/100\n",
            "1/1 [==============================] - 0s 4ms/step - loss: 3.6869 - mae: 3.6869\n",
            "Epoch 92/100\n",
            "1/1 [==============================] - 0s 4ms/step - loss: 3.7350 - mae: 3.7350\n",
            "Epoch 93/100\n",
            "1/1 [==============================] - 0s 7ms/step - loss: 3.6995 - mae: 3.6995\n",
            "Epoch 94/100\n",
            "1/1 [==============================] - 0s 7ms/step - loss: 3.7062 - mae: 3.7062\n",
            "Epoch 95/100\n",
            "1/1 [==============================] - 0s 5ms/step - loss: 3.7081 - mae: 3.7081\n",
            "Epoch 96/100\n",
            "1/1 [==============================] - 0s 7ms/step - loss: 3.6774 - mae: 3.6774\n",
            "Epoch 97/100\n",
            "1/1 [==============================] - 0s 5ms/step - loss: 3.7169 - mae: 3.7169\n",
            "Epoch 98/100\n",
            "1/1 [==============================] - 0s 7ms/step - loss: 3.6502 - mae: 3.6502\n",
            "Epoch 99/100\n",
            "1/1 [==============================] - 0s 4ms/step - loss: 3.7257 - mae: 3.7257\n",
            "Epoch 100/100\n",
            "1/1 [==============================] - 0s 7ms/step - loss: 3.6673 - mae: 3.6673\n"
          ],
          "name": "stdout"
        },
        {
          "output_type": "execute_result",
          "data": {
            "text/plain": [
              "<tensorflow.python.keras.callbacks.History at 0x7f893c3a0750>"
            ]
          },
          "metadata": {
            "tags": []
          },
          "execution_count": 44
        }
      ]
    },
    {
      "cell_type": "code",
      "metadata": {
        "colab": {
          "base_uri": "https://localhost:8080/"
        },
        "id": "PTQ_F1IlXM45",
        "outputId": "3fa06540-9a23-449a-f6a7-ec3df0a318bc"
      },
      "source": [
        "#predicting the value\n",
        "y_pred1  = model.predict([17.0])\n",
        "y_pred1"
      ],
      "execution_count": 45,
      "outputs": [
        {
          "output_type": "execute_result",
          "data": {
            "text/plain": [
              "array([[31.262754]], dtype=float32)"
            ]
          },
          "metadata": {
            "tags": []
          },
          "execution_count": 45
        }
      ]
    },
    {
      "cell_type": "markdown",
      "metadata": {
        "id": "pCQF_h39XkFw"
      },
      "source": [
        "**though the mae is small still its not working as good as the earlier model this can be due to OVERFITTING**"
      ]
    },
    {
      "cell_type": "markdown",
      "metadata": {
        "id": "13OwiZ69ZVkg"
      },
      "source": [
        "###Common Ways to Improve the model\n",
        "*  Adding Layers\n",
        "*  Increase the number of hidden units \n",
        "*  Change the activation functions\n",
        "*  Change the optimization functions\n",
        "*  Change the learning rate\n",
        "*  Fitting more data\n",
        "*  Fitting for longer\n"
      ]
    },
    {
      "cell_type": "code",
      "metadata": {
        "colab": {
          "base_uri": "https://localhost:8080/"
        },
        "id": "sEkmVQtVaWBa",
        "outputId": "9bb0afd1-8202-420e-89b4-07da943eecf7"
      },
      "source": [
        "#Adding a hidden layer with 100 units else to make the model run more accurately\n",
        "\n",
        "# 1. creating the model\n",
        "model = tf.keras.Sequential([\n",
        "    tf.keras.layers.Dense(50,activation=None),\n",
        "    tf.keras.layers.Dense(1)\n",
        "])\n",
        "\n",
        "# 2. compiling the model \n",
        "model.compile(loss = tf.losses.mae,\n",
        "             optimizer = tf.optimizers.Adam(learning_rate= 0.01),\n",
        "             metrics = ['mae'])\n",
        "# 3. fitting the model\n",
        "model.fit(X, y, epochs = 100)"
      ],
      "execution_count": 49,
      "outputs": [
        {
          "output_type": "stream",
          "text": [
            "Epoch 1/100\n",
            "1/1 [==============================] - 0s 315ms/step - loss: 12.5844 - mae: 12.5844\n",
            "Epoch 2/100\n",
            "1/1 [==============================] - 0s 6ms/step - loss: 11.7738 - mae: 11.7738\n",
            "Epoch 3/100\n",
            "1/1 [==============================] - 0s 6ms/step - loss: 10.9602 - mae: 10.9602\n",
            "Epoch 4/100\n",
            "1/1 [==============================] - 0s 4ms/step - loss: 10.1433 - mae: 10.1433\n",
            "Epoch 5/100\n",
            "1/1 [==============================] - 0s 5ms/step - loss: 9.3223 - mae: 9.3223\n",
            "Epoch 6/100\n",
            "1/1 [==============================] - 0s 5ms/step - loss: 8.4962 - mae: 8.4962\n",
            "Epoch 7/100\n",
            "1/1 [==============================] - 0s 7ms/step - loss: 7.6630 - mae: 7.6630\n",
            "Epoch 8/100\n",
            "1/1 [==============================] - 0s 6ms/step - loss: 6.8807 - mae: 6.8807\n",
            "Epoch 9/100\n",
            "1/1 [==============================] - 0s 5ms/step - loss: 6.8787 - mae: 6.8787\n",
            "Epoch 10/100\n",
            "1/1 [==============================] - 0s 5ms/step - loss: 7.1630 - mae: 7.1630\n",
            "Epoch 11/100\n",
            "1/1 [==============================] - 0s 6ms/step - loss: 7.3175 - mae: 7.3175\n",
            "Epoch 12/100\n",
            "1/1 [==============================] - 0s 5ms/step - loss: 7.3772 - mae: 7.3772\n",
            "Epoch 13/100\n",
            "1/1 [==============================] - 0s 6ms/step - loss: 7.2848 - mae: 7.2848\n",
            "Epoch 14/100\n",
            "1/1 [==============================] - 0s 4ms/step - loss: 7.0928 - mae: 7.0928\n",
            "Epoch 15/100\n",
            "1/1 [==============================] - 0s 6ms/step - loss: 6.8674 - mae: 6.8674\n",
            "Epoch 16/100\n",
            "1/1 [==============================] - 0s 5ms/step - loss: 6.6089 - mae: 6.6089\n",
            "Epoch 17/100\n",
            "1/1 [==============================] - 0s 4ms/step - loss: 6.3235 - mae: 6.3235\n",
            "Epoch 18/100\n",
            "1/1 [==============================] - 0s 7ms/step - loss: 6.1513 - mae: 6.1513\n",
            "Epoch 19/100\n",
            "1/1 [==============================] - 0s 4ms/step - loss: 6.0888 - mae: 6.0888\n",
            "Epoch 20/100\n",
            "1/1 [==============================] - 0s 5ms/step - loss: 6.1656 - mae: 6.1656\n",
            "Epoch 21/100\n",
            "1/1 [==============================] - 0s 5ms/step - loss: 6.2124 - mae: 6.2124\n",
            "Epoch 22/100\n",
            "1/1 [==============================] - 0s 5ms/step - loss: 6.1453 - mae: 6.1453\n",
            "Epoch 23/100\n",
            "1/1 [==============================] - 0s 4ms/step - loss: 5.9794 - mae: 5.9794\n",
            "Epoch 24/100\n",
            "1/1 [==============================] - 0s 9ms/step - loss: 5.7259 - mae: 5.7259\n",
            "Epoch 25/100\n",
            "1/1 [==============================] - 0s 8ms/step - loss: 5.5614 - mae: 5.5614\n",
            "Epoch 26/100\n",
            "1/1 [==============================] - 0s 7ms/step - loss: 5.4508 - mae: 5.4508\n",
            "Epoch 27/100\n",
            "1/1 [==============================] - 0s 6ms/step - loss: 5.4154 - mae: 5.4154\n",
            "Epoch 28/100\n",
            "1/1 [==============================] - 0s 5ms/step - loss: 5.4099 - mae: 5.4099\n",
            "Epoch 29/100\n",
            "1/1 [==============================] - 0s 6ms/step - loss: 5.3497 - mae: 5.3497\n",
            "Epoch 30/100\n",
            "1/1 [==============================] - 0s 6ms/step - loss: 5.2393 - mae: 5.2393\n",
            "Epoch 31/100\n",
            "1/1 [==============================] - 0s 6ms/step - loss: 5.0833 - mae: 5.0833\n",
            "Epoch 32/100\n",
            "1/1 [==============================] - 0s 7ms/step - loss: 4.8854 - mae: 4.8854\n",
            "Epoch 33/100\n",
            "1/1 [==============================] - 0s 7ms/step - loss: 4.7127 - mae: 4.7127\n",
            "Epoch 34/100\n",
            "1/1 [==============================] - 0s 5ms/step - loss: 4.6071 - mae: 4.6071\n",
            "Epoch 35/100\n",
            "1/1 [==============================] - 0s 6ms/step - loss: 4.4946 - mae: 4.4946\n",
            "Epoch 36/100\n",
            "1/1 [==============================] - 0s 7ms/step - loss: 4.4447 - mae: 4.4447\n",
            "Epoch 37/100\n",
            "1/1 [==============================] - 0s 6ms/step - loss: 4.3139 - mae: 4.3139\n",
            "Epoch 38/100\n",
            "1/1 [==============================] - 0s 9ms/step - loss: 4.0937 - mae: 4.0937\n",
            "Epoch 39/100\n",
            "1/1 [==============================] - 0s 7ms/step - loss: 3.9398 - mae: 3.9398\n",
            "Epoch 40/100\n",
            "1/1 [==============================] - 0s 7ms/step - loss: 3.7795 - mae: 3.7795\n",
            "Epoch 41/100\n",
            "1/1 [==============================] - 0s 5ms/step - loss: 3.6243 - mae: 3.6243\n",
            "Epoch 42/100\n",
            "1/1 [==============================] - 0s 6ms/step - loss: 3.4888 - mae: 3.4888\n",
            "Epoch 43/100\n",
            "1/1 [==============================] - 0s 6ms/step - loss: 3.2932 - mae: 3.2932\n",
            "Epoch 44/100\n",
            "1/1 [==============================] - 0s 5ms/step - loss: 3.1220 - mae: 3.1220\n",
            "Epoch 45/100\n",
            "1/1 [==============================] - 0s 4ms/step - loss: 2.9502 - mae: 2.9502\n",
            "Epoch 46/100\n",
            "1/1 [==============================] - 0s 6ms/step - loss: 2.7903 - mae: 2.7903\n",
            "Epoch 47/100\n",
            "1/1 [==============================] - 0s 9ms/step - loss: 2.5687 - mae: 2.5687\n",
            "Epoch 48/100\n",
            "1/1 [==============================] - 0s 5ms/step - loss: 2.3594 - mae: 2.3594\n",
            "Epoch 49/100\n",
            "1/1 [==============================] - 0s 6ms/step - loss: 2.1408 - mae: 2.1408\n",
            "Epoch 50/100\n",
            "1/1 [==============================] - 0s 6ms/step - loss: 1.9404 - mae: 1.9404\n",
            "Epoch 51/100\n",
            "1/1 [==============================] - 0s 5ms/step - loss: 1.7031 - mae: 1.7031\n",
            "Epoch 52/100\n",
            "1/1 [==============================] - 0s 5ms/step - loss: 1.4595 - mae: 1.4595\n",
            "Epoch 53/100\n",
            "1/1 [==============================] - 0s 6ms/step - loss: 1.2840 - mae: 1.2840\n",
            "Epoch 54/100\n",
            "1/1 [==============================] - 0s 6ms/step - loss: 0.9648 - mae: 0.9648\n",
            "Epoch 55/100\n",
            "1/1 [==============================] - 0s 4ms/step - loss: 0.8175 - mae: 0.8175\n",
            "Epoch 56/100\n",
            "1/1 [==============================] - 0s 7ms/step - loss: 0.6157 - mae: 0.6157\n",
            "Epoch 57/100\n",
            "1/1 [==============================] - 0s 6ms/step - loss: 0.1803 - mae: 0.1803\n",
            "Epoch 58/100\n",
            "1/1 [==============================] - 0s 6ms/step - loss: 0.4363 - mae: 0.4363\n",
            "Epoch 59/100\n",
            "1/1 [==============================] - 0s 5ms/step - loss: 0.5207 - mae: 0.5207\n",
            "Epoch 60/100\n",
            "1/1 [==============================] - 0s 7ms/step - loss: 0.5818 - mae: 0.5818\n",
            "Epoch 61/100\n",
            "1/1 [==============================] - 0s 6ms/step - loss: 0.7521 - mae: 0.7521\n",
            "Epoch 62/100\n",
            "1/1 [==============================] - 0s 4ms/step - loss: 0.7591 - mae: 0.7591\n",
            "Epoch 63/100\n",
            "1/1 [==============================] - 0s 5ms/step - loss: 0.8679 - mae: 0.8679\n",
            "Epoch 64/100\n",
            "1/1 [==============================] - 0s 4ms/step - loss: 0.8769 - mae: 0.8769\n",
            "Epoch 65/100\n",
            "1/1 [==============================] - 0s 5ms/step - loss: 0.7485 - mae: 0.7485\n",
            "Epoch 66/100\n",
            "1/1 [==============================] - 0s 9ms/step - loss: 0.7718 - mae: 0.7718\n",
            "Epoch 67/100\n",
            "1/1 [==============================] - 0s 6ms/step - loss: 0.6358 - mae: 0.6358\n",
            "Epoch 68/100\n",
            "1/1 [==============================] - 0s 4ms/step - loss: 0.5196 - mae: 0.5196\n",
            "Epoch 69/100\n",
            "1/1 [==============================] - 0s 8ms/step - loss: 0.4028 - mae: 0.4028\n",
            "Epoch 70/100\n",
            "1/1 [==============================] - 0s 4ms/step - loss: 0.2222 - mae: 0.2222\n",
            "Epoch 71/100\n",
            "1/1 [==============================] - 0s 6ms/step - loss: 0.0890 - mae: 0.0890\n",
            "Epoch 72/100\n",
            "1/1 [==============================] - 0s 4ms/step - loss: 0.2964 - mae: 0.2964\n",
            "Epoch 73/100\n",
            "1/1 [==============================] - 0s 6ms/step - loss: 0.4511 - mae: 0.4511\n",
            "Epoch 74/100\n",
            "1/1 [==============================] - 0s 4ms/step - loss: 0.4251 - mae: 0.4251\n",
            "Epoch 75/100\n",
            "1/1 [==============================] - 0s 6ms/step - loss: 0.3360 - mae: 0.3360\n",
            "Epoch 76/100\n",
            "1/1 [==============================] - 0s 4ms/step - loss: 0.4432 - mae: 0.4432\n",
            "Epoch 77/100\n",
            "1/1 [==============================] - 0s 8ms/step - loss: 0.3555 - mae: 0.3555\n",
            "Epoch 78/100\n",
            "1/1 [==============================] - 0s 7ms/step - loss: 0.3009 - mae: 0.3009\n",
            "Epoch 79/100\n",
            "1/1 [==============================] - 0s 6ms/step - loss: 0.2738 - mae: 0.2738\n",
            "Epoch 80/100\n",
            "1/1 [==============================] - 0s 7ms/step - loss: 0.0898 - mae: 0.0898\n",
            "Epoch 81/100\n",
            "1/1 [==============================] - 0s 4ms/step - loss: 0.2804 - mae: 0.2804\n",
            "Epoch 82/100\n",
            "1/1 [==============================] - 0s 4ms/step - loss: 0.3180 - mae: 0.3180\n",
            "Epoch 83/100\n",
            "1/1 [==============================] - 0s 7ms/step - loss: 0.2333 - mae: 0.2333\n",
            "Epoch 84/100\n",
            "1/1 [==============================] - 0s 4ms/step - loss: 0.3839 - mae: 0.3839\n",
            "Epoch 85/100\n",
            "1/1 [==============================] - 0s 7ms/step - loss: 0.3668 - mae: 0.3668\n",
            "Epoch 86/100\n",
            "1/1 [==============================] - 0s 4ms/step - loss: 0.2466 - mae: 0.2466\n",
            "Epoch 87/100\n",
            "1/1 [==============================] - 0s 4ms/step - loss: 0.2062 - mae: 0.2062\n",
            "Epoch 88/100\n",
            "1/1 [==============================] - 0s 7ms/step - loss: 0.1823 - mae: 0.1823\n",
            "Epoch 89/100\n",
            "1/1 [==============================] - 0s 4ms/step - loss: 0.0113 - mae: 0.0113\n",
            "Epoch 90/100\n",
            "1/1 [==============================] - 0s 7ms/step - loss: 0.2708 - mae: 0.2708\n",
            "Epoch 91/100\n",
            "1/1 [==============================] - 0s 4ms/step - loss: 0.2475 - mae: 0.2475\n",
            "Epoch 92/100\n",
            "1/1 [==============================] - 0s 8ms/step - loss: 0.3037 - mae: 0.3037\n",
            "Epoch 93/100\n",
            "1/1 [==============================] - 0s 4ms/step - loss: 0.3591 - mae: 0.3591\n",
            "Epoch 94/100\n",
            "1/1 [==============================] - 0s 6ms/step - loss: 0.2620 - mae: 0.2620\n",
            "Epoch 95/100\n",
            "1/1 [==============================] - 0s 10ms/step - loss: 0.3250 - mae: 0.3250\n",
            "Epoch 96/100\n",
            "1/1 [==============================] - 0s 4ms/step - loss: 0.2909 - mae: 0.2909\n",
            "Epoch 97/100\n",
            "1/1 [==============================] - 0s 6ms/step - loss: 0.0858 - mae: 0.0858\n",
            "Epoch 98/100\n",
            "1/1 [==============================] - 0s 7ms/step - loss: 0.1153 - mae: 0.1153\n",
            "Epoch 99/100\n",
            "1/1 [==============================] - 0s 4ms/step - loss: 0.1875 - mae: 0.1875\n",
            "Epoch 100/100\n",
            "1/1 [==============================] - 0s 3ms/step - loss: 0.2437 - mae: 0.2437\n"
          ],
          "name": "stdout"
        },
        {
          "output_type": "execute_result",
          "data": {
            "text/plain": [
              "<tensorflow.python.keras.callbacks.History at 0x7f8931854250>"
            ]
          },
          "metadata": {
            "tags": []
          },
          "execution_count": 49
        }
      ]
    },
    {
      "cell_type": "code",
      "metadata": {
        "colab": {
          "base_uri": "https://localhost:8080/"
        },
        "id": "gSAqe0TXafp_",
        "outputId": "c5908086-bd0c-4d60-dab7-6553b0c077b6"
      },
      "source": [
        "#prediciton time\n",
        "y_pred2 = model.predict([17])\n",
        "y_pred2"
      ],
      "execution_count": 50,
      "outputs": [
        {
          "output_type": "execute_result",
          "data": {
            "text/plain": [
              "array([[27.020494]], dtype=float32)"
            ]
          },
          "metadata": {
            "tags": []
          },
          "execution_count": 50
        }
      ]
    },
    {
      "cell_type": "markdown",
      "metadata": {
        "id": "upJ0irYBa15O"
      },
      "source": [
        "**The most accurate model of the three**"
      ]
    },
    {
      "cell_type": "markdown",
      "metadata": {
        "id": "hVkXnEwTcgQ1"
      },
      "source": [
        "## Evaluating a model \n",
        "\n",
        "A typical workflow you'll go through when building neural networks is:\n",
        "\n",
        "```\n",
        "Build a model -> evaluate it -> build (tweak) a model -> evaulate it -> build (tweak) a model -> evaluate it...\n",
        "```\n",
        "\n",
        "The tweaking comes from maybe not building a model from scratch but adjusting an existing one.\n",
        "\n",
        "*Visualize, visualize, visualize*\n",
        "\n",
        "When it comes to evaluation, you'll want to remember the words: \"visualize, visualize, visualize.\" \n",
        "\n",
        "This is because you're probably better looking at something (doing) than you are thinking about something.\n",
        "\n",
        "It's a good idea to visualize:\n",
        "* **The data** - what data are you working with? What does it look like?\n",
        "* **The model itself** - what does the architecture look like? What are the different shapes?\n",
        "* **The training of a model** - how does a model perform while it learns?\n",
        "* **The predictions of a model** - how do the predictions of a model line up against the ground truth (the original labels)?\n",
        "\n",
        "Let's start by visualizing the model.\n",
        "\n",
        "But first, we'll create a little bit of a bigger dataset and a new model we can use (it'll be the same as before, but the more practice the better).\n"
      ]
    },
    {
      "cell_type": "code",
      "metadata": {
        "colab": {
          "base_uri": "https://localhost:8080/"
        },
        "id": "1hixQ5zRc3rZ",
        "outputId": "469e6457-7107-4222-8364-8850c7c8682b"
      },
      "source": [
        "#Making a bigger dataset for the model\n",
        "\n",
        "X = tf.range(-100,100,4)\n",
        "X"
      ],
      "execution_count": 51,
      "outputs": [
        {
          "output_type": "execute_result",
          "data": {
            "text/plain": [
              "<tf.Tensor: shape=(50,), dtype=int32, numpy=\n",
              "array([-100,  -96,  -92,  -88,  -84,  -80,  -76,  -72,  -68,  -64,  -60,\n",
              "        -56,  -52,  -48,  -44,  -40,  -36,  -32,  -28,  -24,  -20,  -16,\n",
              "        -12,   -8,   -4,    0,    4,    8,   12,   16,   20,   24,   28,\n",
              "         32,   36,   40,   44,   48,   52,   56,   60,   64,   68,   72,\n",
              "         76,   80,   84,   88,   92,   96], dtype=int32)>"
            ]
          },
          "metadata": {
            "tags": []
          },
          "execution_count": 51
        }
      ]
    },
    {
      "cell_type": "code",
      "metadata": {
        "colab": {
          "base_uri": "https://localhost:8080/"
        },
        "id": "AwhPdS6ed_3S",
        "outputId": "7d6d4757-d782-419a-f16a-aaedd6e847ab"
      },
      "source": [
        "y = X + 10\n",
        "y"
      ],
      "execution_count": 52,
      "outputs": [
        {
          "output_type": "execute_result",
          "data": {
            "text/plain": [
              "<tf.Tensor: shape=(50,), dtype=int32, numpy=\n",
              "array([-90, -86, -82, -78, -74, -70, -66, -62, -58, -54, -50, -46, -42,\n",
              "       -38, -34, -30, -26, -22, -18, -14, -10,  -6,  -2,   2,   6,  10,\n",
              "        14,  18,  22,  26,  30,  34,  38,  42,  46,  50,  54,  58,  62,\n",
              "        66,  70,  74,  78,  82,  86,  90,  94,  98, 102, 106], dtype=int32)>"
            ]
          },
          "metadata": {
            "tags": []
          },
          "execution_count": 52
        }
      ]
    },
    {
      "cell_type": "code",
      "metadata": {
        "colab": {
          "base_uri": "https://localhost:8080/",
          "height": 282
        },
        "id": "I71kqVd8eCzN",
        "outputId": "26738c59-ec24-46a2-af83-94271a3b2c08"
      },
      "source": [
        "import matplotlib.pyplot as plt\n",
        "plt.scatter(X,y)"
      ],
      "execution_count": 53,
      "outputs": [
        {
          "output_type": "execute_result",
          "data": {
            "text/plain": [
              "<matplotlib.collections.PathCollection at 0x7f893c1f1910>"
            ]
          },
          "metadata": {
            "tags": []
          },
          "execution_count": 53
        },
        {
          "output_type": "display_data",
          "data": {
            "image/png": "[encoded data removed]",
            "text/plain": [
              "<Figure size 432x288 with 1 Axes>"
            ]
          },
          "metadata": {
            "tags": [],
            "needs_background": "light"
          }
        }
      ]
    },
    {
      "cell_type": "markdown",
      "metadata": {
        "id": "6mh0yzGFekvc"
      },
      "source": [
        "### Split data into training/test set\n",
        "\n",
        "One of the other most common and important steps in a machine learning project is creating a training and test set (and when required, a validation set).\n",
        "\n",
        "Each set serves a specific purpose:\n",
        "* **Training set** - the model learns from this data, which is typically 70-80% of the total data available (like the course materials you study during the semester).\n",
        "* **Validation set** - the model gets tuned on this data, which is typically 10-15% of the total data available (like the practice exam you take before the final exam).\n",
        "* **Test set** - the model gets evaluated on this data to test what it has learned, it's typically 10-15% of the total data available (like the final exam you take at the end of the semester).\n",
        "\n",
        "For now, we'll just use a training and test set, this means we'll have a dataset for our model to learn on as well as be evaluated on.\n",
        "\n",
        "We can create them by splitting our `X` and `y` arrays.\n",
        "\n",
        "> 🔑 **Note:** When dealing with real-world data, this step is typically done right at the start of a project (the test set should always be kept separate from all other data). We want our model to learn on training data and then evaluate it on test data to get an indication of how well it **generalizes** to unseen examples."
      ]
    },
    {
      "cell_type": "code",
      "metadata": {
        "id": "Sd8Q4_D9fvQI"
      },
      "source": [
        "X_train, y_train = X[:40], y[:40]\n",
        "\n",
        "X_test, y_test = X[40:], y[40:]"
      ],
      "execution_count": 55,
      "outputs": []
    },
    {
      "cell_type": "markdown",
      "metadata": {
        "id": "jrLkxlIohZjz"
      },
      "source": [
        "### Visualizing the data\n",
        "\n",
        "Now we've got our training and test data, it's a good idea to visualize it.\n",
        "\n",
        "Let's plot it with some nice colours to differentiate what's what."
      ]
    },
    {
      "cell_type": "code",
      "metadata": {
        "colab": {
          "base_uri": "https://localhost:8080/",
          "height": 446
        },
        "id": "08zgqSuEgtCW",
        "outputId": "d0c1b0c4-51f5-4dd7-eafd-3d904e79baac"
      },
      "source": [
        "plt.figure(figsize=(10,7))\n",
        "# Training data as blue\n",
        "plt.scatter(X_train, y_train, c = \"b\", label = \"Training data\")\n",
        "# Test data as green\n",
        "plt.scatter(X_test, y_test, c = \"g\", label = \"Test data\")\n",
        "\n",
        "plt.legend()"
      ],
      "execution_count": 58,
      "outputs": [
        {
          "output_type": "execute_result",
          "data": {
            "text/plain": [
              "<matplotlib.legend.Legend at 0x7f89395ceb90>"
            ]
          },
          "metadata": {
            "tags": []
          },
          "execution_count": 58
        },
        {
          "output_type": "display_data",
          "data": {
            "image/png": "[encoded data removed]",
            "text/plain": [
              "<Figure size 720x504 with 1 Axes>"
            ]
          },
          "metadata": {
            "tags": [],
            "needs_background": "light"
          }
        }
      ]
    },
    {
      "cell_type": "code",
      "metadata": {
        "id": "RlcR0Xl_h6nX"
      },
      "source": [
        "#Create the model for the Train data and predicting the test data.\n",
        "\n",
        "# 1. Create model \n",
        "model  = tf.keras.Sequential([\n",
        "   tf.keras.layers.Dense(1)\n",
        "])\n",
        "\n",
        "# 2. Compile the model\n",
        "model.compile(loss = 'mae',\n",
        "              optimizer = 'sgd',\n",
        "              metrics = ['mae'])\n",
        "# 3. fit the train data only\n",
        "# model.fit(X_train, y_train, epochs = 100)"
      ],
      "execution_count": 65,
      "outputs": []
    },
    {
      "cell_type": "code",
      "metadata": {
        "colab": {
          "base_uri": "https://localhost:8080/",
          "height": 308
        },
        "id": "Y_AIuZvnjEWC",
        "outputId": "d01f964e-19a2-4256-a6e9-26691d2d27d6"
      },
      "source": [
        "model.summary()"
      ],
      "execution_count": 66,
      "outputs": [
        {
          "output_type": "error",
          "ename": "ValueError",
          "evalue": "ignored",
          "traceback": [
            "\u001b[0;31m---------------------------------------------------------------------------\u001b[0m",
            "\u001b[0;31mValueError\u001b[0m                                Traceback (most recent call last)",
            "\u001b[0;32m<ipython-input-66-5f15418b3570>\u001b[0m in \u001b[0;36m<module>\u001b[0;34m()\u001b[0m\n\u001b[0;32m----> 1\u001b[0;31m \u001b[0mmodel\u001b[0m\u001b[0;34m.\u001b[0m\u001b[0msummary\u001b[0m\u001b[0;34m(\u001b[0m\u001b[0;34m)\u001b[0m\u001b[0;34m\u001b[0m\u001b[0;34m\u001b[0m\u001b[0m\n\u001b[0m",
            "\u001b[0;32m/usr/local/lib/python3.7/dist-packages/tensorflow/python/keras/engine/training.py\u001b[0m in \u001b[0;36msummary\u001b[0;34m(self, line_length, positions, print_fn)\u001b[0m\n\u001b[1;32m   2475\u001b[0m     \"\"\"\n\u001b[1;32m   2476\u001b[0m     \u001b[0;32mif\u001b[0m \u001b[0;32mnot\u001b[0m \u001b[0mself\u001b[0m\u001b[0;34m.\u001b[0m\u001b[0mbuilt\u001b[0m\u001b[0;34m:\u001b[0m\u001b[0;34m\u001b[0m\u001b[0;34m\u001b[0m\u001b[0m\n\u001b[0;32m-> 2477\u001b[0;31m       raise ValueError('This model has not yet been built. '\n\u001b[0m\u001b[1;32m   2478\u001b[0m                        \u001b[0;34m'Build the model first by calling `build()` or calling '\u001b[0m\u001b[0;34m\u001b[0m\u001b[0;34m\u001b[0m\u001b[0m\n\u001b[1;32m   2479\u001b[0m                        \u001b[0;34m'`fit()` with some data, or specify '\u001b[0m\u001b[0;34m\u001b[0m\u001b[0;34m\u001b[0m\u001b[0m\n",
            "\u001b[0;31mValueError\u001b[0m: This model has not yet been built. Build the model first by calling `build()` or calling `fit()` with some data, or specify an `input_shape` argument in the first layer(s) for automatic build."
          ]
        }
      ]
    },
    {
      "cell_type": "code",
      "metadata": {
        "id": "gLm7tk8gjItu"
      },
      "source": [
        "# Let's Create a model which builds automatically by defining the input_shape argument \n",
        "\n",
        "# 1. Create the model by giving the input shape argument \n",
        "model = tf.keras.Sequential([\n",
        "    tf.keras.layers.Dense(50,activation=None,input_shape = [1]),\n",
        "    tf.keras.layers.Dense(1)\n",
        "])\n",
        "\n",
        "# 2. compiling the model \n",
        "model.compile(loss = tf.losses.mae,\n",
        "             optimizer = tf.optimizers.Adam(learning_rate= 0.01),\n",
        "             metrics = ['mae'])"
      ],
      "execution_count": 104,
      "outputs": []
    },
    {
      "cell_type": "code",
      "metadata": {
        "colab": {
          "base_uri": "https://localhost:8080/"
        },
        "id": "nyeEpILrkPG8",
        "outputId": "81a136b1-48ab-46bd-b8bf-bb536cc0852b"
      },
      "source": [
        "model.summary()"
      ],
      "execution_count": 105,
      "outputs": [
        {
          "output_type": "stream",
          "text": [
            "Model: \"sequential_26\"\n",
            "_________________________________________________________________\n",
            "Layer (type)                 Output Shape              Param #   \n",
            "=================================================================\n",
            "dense_33 (Dense)             (None, 50)                100       \n",
            "_________________________________________________________________\n",
            "dense_34 (Dense)             (None, 1)                 51        \n",
            "=================================================================\n",
            "Total params: 151\n",
            "Trainable params: 151\n",
            "Non-trainable params: 0\n",
            "_________________________________________________________________\n"
          ],
          "name": "stdout"
        }
      ]
    },
    {
      "cell_type": "markdown",
      "metadata": {
        "id": "6zkBdF2rkRUQ"
      },
      "source": [
        "Calling `summary()` on our model shows us the layers it contains, the output shape and the number of parameters.\n",
        "* **Total params** - total number of parameters in the model.\n",
        "* **Trainable parameters** - these are the parameters (patterns) the model can update as it trains. (**also known as Weights and biases**)\n",
        "* **Non-trainable parameters** - these parameters aren't updated during training (this is typical when you bring in the already learned patterns from other models during **transfer learning**).\n",
        "\n",
        "> 📖 **Resource:** For a more in-depth overview of the trainable parameters within a layer, check out [MIT's introduction to deep learning video](https://youtu.be/njKP3FqW3Sk).\n",
        "\n",
        "> 🛠 **Exercise:** Try playing around with the number of hidden units in the `Dense` layer (e.g. `Dense(2)`, `Dense(3)`). How does this change the Total/Trainable params? Investigate what's causing the change.\n",
        "\n",
        "For now, all you need to think about these parameters is that their learnable patterns in the data.\n",
        "\n"
      ]
    },
    {
      "cell_type": "code",
      "metadata": {
        "colab": {
          "base_uri": "https://localhost:8080/"
        },
        "id": "ZVdx4zmvksXe",
        "outputId": "535dd6b9-168f-41ab-e8f0-6bb0c27d45df"
      },
      "source": [
        "#Let's fit our model to the training data.\n",
        "\n",
        "model.fit(X_train, y_train, epochs = 100, verbose = 0)"
      ],
      "execution_count": 106,
      "outputs": [
        {
          "output_type": "execute_result",
          "data": {
            "text/plain": [
              "<tensorflow.python.keras.callbacks.History at 0x7f892d3e46d0>"
            ]
          },
          "metadata": {
            "tags": []
          },
          "execution_count": 106
        }
      ]
    },
    {
      "cell_type": "code",
      "metadata": {
        "colab": {
          "base_uri": "https://localhost:8080/",
          "height": 312
        },
        "id": "mYSzD0XQnZTJ",
        "outputId": "622191db-6fe1-4480-c888-6607f15ae1c0"
      },
      "source": [
        "#plot the model \n",
        "from tensorflow.keras.utils import plot_model\n",
        "\n",
        "plot_model(model = model,show_shapes= True)"
      ],
      "execution_count": 107,
      "outputs": [
        {
          "output_type": "execute_result",
          "data": {
            "image/png": "[encoded data removed]",
            "text/plain": [
              "<IPython.core.display.Image object>"
            ]
          },
          "metadata": {
            "tags": []
          },
          "execution_count": 107
        }
      ]
    },
    {
      "cell_type": "markdown",
      "metadata": {
        "id": "jMPzaotop8Cu"
      },
      "source": [
        "### Visualizing the predictions\n",
        "\n",
        "Now we've got a trained model, let's visualize some predictions.\n",
        "\n",
        "To visualize predictions, it's always a good idea to plot them against the ground truth labels.\n",
        "\n",
        "Often you'll see this in the form of `y_test` vs. `y_pred` (ground truth vs. predictions).\n",
        "\n",
        "First, we'll make some predictions on the test data (`X_test`), remember the model has never seen the test data."
      ]
    },
    {
      "cell_type": "code",
      "metadata": {
        "colab": {
          "base_uri": "https://localhost:8080/"
        },
        "id": "8d7LvL9umv3L",
        "outputId": "1d68ad61-4e31-4745-a617-8d90ee671a7d"
      },
      "source": [
        "y_pred3 = model.predict(X_test)\n",
        "tf.reshape(y_test,shape = (10,1)), y_pred3"
      ],
      "execution_count": 108,
      "outputs": [
        {
          "output_type": "execute_result",
          "data": {
            "text/plain": [
              "(<tf.Tensor: shape=(10, 1), dtype=int32, numpy=\n",
              " array([[ 70],\n",
              "        [ 74],\n",
              "        [ 78],\n",
              "        [ 82],\n",
              "        [ 86],\n",
              "        [ 90],\n",
              "        [ 94],\n",
              "        [ 98],\n",
              "        [102],\n",
              "        [106]], dtype=int32)>, array([[ 70.79411 ],\n",
              "        [ 74.85652 ],\n",
              "        [ 78.91892 ],\n",
              "        [ 82.981316],\n",
              "        [ 87.04372 ],\n",
              "        [ 91.10612 ],\n",
              "        [ 95.16851 ],\n",
              "        [ 99.23091 ],\n",
              "        [103.29331 ],\n",
              "        [107.355705]], dtype=float32))"
            ]
          },
          "metadata": {
            "tags": []
          },
          "execution_count": 108
        }
      ]
    },
    {
      "cell_type": "code",
      "metadata": {
        "id": "7XL3N2SPm_st"
      },
      "source": [
        "def plot_predictions(train_data=X_train, \n",
        "                     train_labels=y_train, \n",
        "                     test_data=X_test, \n",
        "                     test_labels=y_test, \n",
        "                     predictions=y_pred3):\n",
        "\n",
        "  plt.figure(figsize=(10,7))\n",
        "  plt.scatter(train_data, train_labels, c= \"b\", label = 'Training Set')\n",
        "  plt.scatter(test_data, test_labels, c= \"g\",label = 'test Set', )\n",
        "  plt.scatter(test_data,predictions, c= \"r\", label = 'predictions')\n",
        "  plt.legend()"
      ],
      "execution_count": 109,
      "outputs": []
    },
    {
      "cell_type": "code",
      "metadata": {
        "colab": {
          "base_uri": "https://localhost:8080/",
          "height": 428
        },
        "id": "OP84vVyxorve",
        "outputId": "feb691cc-3366-43cf-8d6f-05d764686721"
      },
      "source": [
        "plot_predictions(train_data=X_train, \n",
        "                     train_labels=y_train, \n",
        "                     test_data=X_test, \n",
        "                     test_labels=y_test, \n",
        "                     predictions=y_pred3)"
      ],
      "execution_count": 110,
      "outputs": [
        {
          "output_type": "display_data",
          "data": {
            "image/png": "[encoded data removed]",
            "text/plain": [
              "<Figure size 720x504 with 1 Axes>"
            ]
          },
          "metadata": {
            "tags": [],
            "needs_background": "light"
          }
        }
      ]
    },
    {
      "cell_type": "markdown",
      "metadata": {
        "id": "UumZXhgJrLYj"
      },
      "source": [
        "### Evaluating predictions\n",
        "\n",
        "Alongisde visualizations, evaulation metrics are your alternative best option for evaluating your model.\n",
        "\n",
        "Depending on the problem you're working on, different models have different evaluation metrics. \n",
        "\n",
        "Two of the main metrics used for regression problems are:\n",
        "* **Mean absolute error (MAE)** - the mean difference between each of the predictions.\n",
        "* **Mean squared error (MSE)** - the squared mean difference between of the predictions (use if larger errors are more detrimental than smaller errors).\n",
        "\n",
        "The lower each of these values, the better.\n",
        "\n",
        "You can also use [`model.evaluate()`](https://www.tensorflow.org/api_docs/python/tf/keras/Model#evaluate) which will return the loss of the model as well as any metrics setup during the compile step.\n",
        "![image.png](data:image/png;base64,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)"
      ]
    },
    {
      "cell_type": "code",
      "metadata": {
        "id": "NIYNfmuYsSiU"
      },
      "source": [
        ""
      ],
      "execution_count": 112,
      "outputs": []
    },
    {
      "cell_type": "code",
      "metadata": {
        "id": "MTkl5k5guCOo"
      },
      "source": [
        ""
      ],
      "execution_count": null,
      "outputs": []
    }
  ]
}