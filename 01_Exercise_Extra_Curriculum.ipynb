{
  "nbformat": 4,
  "nbformat_minor": 0,
  "metadata": {
    "colab": {
      "name": "01_Exercise_Extra_Curriculum.ipynb",
      "provenance": [],
      "collapsed_sections": []
    },
    "kernelspec": {
      "name": "python3",
      "display_name": "Python 3"
    },
    "language_info": {
      "name": "python"
    }
  },
  "cells": [
    {
      "cell_type": "markdown",
      "metadata": {
        "id": "9dcahMfNrtxB"
      },
      "source": [
        "#Exercise\n"
      ]
    },
    {
      "cell_type": "code",
      "metadata": {
        "id": "2_kbvMdurRkR"
      },
      "source": [
        "import pandas as pd\n",
        "import matplotlib.pyplot as plt\n",
        "import tensorflow as tf\n"
      ],
      "execution_count": null,
      "outputs": []
    },
    {
      "cell_type": "code",
      "metadata": {
        "id": "cMlEwEIPrrah"
      },
      "source": [
        "#Q1\n",
        "X = tf.range(0,1000,10)\n",
        "y = tf.range(10,1010,10)"
      ],
      "execution_count": null,
      "outputs": []
    },
    {
      "cell_type": "code",
      "metadata": {
        "colab": {
          "base_uri": "https://localhost:8080/"
        },
        "id": "CbcDwQV2rtVG",
        "outputId": "128ce685-b960-46b2-cc86-34675d399fa0"
      },
      "source": [
        "X,y"
      ],
      "execution_count": null,
      "outputs": [
        {
          "output_type": "execute_result",
          "data": {
            "text/plain": [
              "(<tf.Tensor: shape=(100,), dtype=int32, numpy=\n",
              " array([  0,  10,  20,  30,  40,  50,  60,  70,  80,  90, 100, 110, 120,\n",
              "        130, 140, 150, 160, 170, 180, 190, 200, 210, 220, 230, 240, 250,\n",
              "        260, 270, 280, 290, 300, 310, 320, 330, 340, 350, 360, 370, 380,\n",
              "        390, 400, 410, 420, 430, 440, 450, 460, 470, 480, 490, 500, 510,\n",
              "        520, 530, 540, 550, 560, 570, 580, 590, 600, 610, 620, 630, 640,\n",
              "        650, 660, 670, 680, 690, 700, 710, 720, 730, 740, 750, 760, 770,\n",
              "        780, 790, 800, 810, 820, 830, 840, 850, 860, 870, 880, 890, 900,\n",
              "        910, 920, 930, 940, 950, 960, 970, 980, 990], dtype=int32)>,\n",
              " <tf.Tensor: shape=(100,), dtype=int32, numpy=\n",
              " array([  10,   20,   30,   40,   50,   60,   70,   80,   90,  100,  110,\n",
              "         120,  130,  140,  150,  160,  170,  180,  190,  200,  210,  220,\n",
              "         230,  240,  250,  260,  270,  280,  290,  300,  310,  320,  330,\n",
              "         340,  350,  360,  370,  380,  390,  400,  410,  420,  430,  440,\n",
              "         450,  460,  470,  480,  490,  500,  510,  520,  530,  540,  550,\n",
              "         560,  570,  580,  590,  600,  610,  620,  630,  640,  650,  660,\n",
              "         670,  680,  690,  700,  710,  720,  730,  740,  750,  760,  770,\n",
              "         780,  790,  800,  810,  820,  830,  840,  850,  860,  870,  880,\n",
              "         890,  900,  910,  920,  930,  940,  950,  960,  970,  980,  990,\n",
              "        1000], dtype=int32)>)"
            ]
          },
          "metadata": {
            "tags": []
          },
          "execution_count": 9
        }
      ]
    },
    {
      "cell_type": "code",
      "metadata": {
        "id": "UtoKGEomtnNd"
      },
      "source": [
        "#y = X + 10\n",
        "X_train, X_test = X[:80],X[80:] \n",
        "y_train, y_test = y[:80],y[80:]"
      ],
      "execution_count": null,
      "outputs": []
    },
    {
      "cell_type": "code",
      "metadata": {
        "colab": {
          "base_uri": "https://localhost:8080/"
        },
        "id": "R6126R3kt-1n",
        "outputId": "ad50cb85-9039-4c1d-a6ac-bcbc2785dd00"
      },
      "source": [
        "tf.random.set_seed(42)\n",
        "\n",
        "model_1 = tf.keras.Sequential([\n",
        "  tf.keras.layers.Dense(1)\n",
        "])\n",
        "\n",
        "model_1.compile(loss = 'mae',\n",
        "                optimizer = 'sgd',\n",
        "                metrics = 'mae')\n",
        "\n",
        "history_1 = model_1.fit(X_train, y_train,epochs = 100)"
      ],
      "execution_count": null,
      "outputs": [
        {
          "output_type": "stream",
          "text": [
            "Epoch 1/100\n",
            "3/3 [==============================] - 0s 4ms/step - loss: 658.5536 - mae: 658.5536\n",
            "Epoch 2/100\n",
            "3/3 [==============================] - 0s 4ms/step - loss: 957.3704 - mae: 957.3704\n",
            "Epoch 3/100\n",
            "3/3 [==============================] - 0s 2ms/step - loss: 647.1253 - mae: 647.1253\n",
            "Epoch 4/100\n",
            "3/3 [==============================] - 0s 5ms/step - loss: 901.4782 - mae: 901.4782\n",
            "Epoch 5/100\n",
            "3/3 [==============================] - 0s 3ms/step - loss: 646.5032 - mae: 646.5032\n",
            "Epoch 6/100\n",
            "3/3 [==============================] - 0s 4ms/step - loss: 920.0199 - mae: 920.0199\n",
            "Epoch 7/100\n",
            "3/3 [==============================] - 0s 5ms/step - loss: 715.4720 - mae: 715.4720\n",
            "Epoch 8/100\n",
            "3/3 [==============================] - 0s 4ms/step - loss: 820.4066 - mae: 820.4066\n",
            "Epoch 9/100\n",
            "3/3 [==============================] - 0s 3ms/step - loss: 800.0515 - mae: 800.0515\n",
            "Epoch 10/100\n",
            "3/3 [==============================] - 0s 4ms/step - loss: 706.6259 - mae: 706.6259\n",
            "Epoch 11/100\n",
            "3/3 [==============================] - 0s 4ms/step - loss: 829.6196 - mae: 829.6196\n",
            "Epoch 12/100\n",
            "3/3 [==============================] - 0s 3ms/step - loss: 819.8563 - mae: 819.8563\n",
            "Epoch 13/100\n",
            "3/3 [==============================] - 0s 2ms/step - loss: 716.4525 - mae: 716.4525\n",
            "Epoch 14/100\n",
            "3/3 [==============================] - 0s 3ms/step - loss: 832.9264 - mae: 832.9264\n",
            "Epoch 15/100\n",
            "3/3 [==============================] - 0s 4ms/step - loss: 721.0151 - mae: 721.0151\n",
            "Epoch 16/100\n",
            "3/3 [==============================] - 0s 6ms/step - loss: 824.1273 - mae: 824.1273\n",
            "Epoch 17/100\n",
            "3/3 [==============================] - 0s 5ms/step - loss: 784.2894 - mae: 784.2894\n",
            "Epoch 18/100\n",
            "3/3 [==============================] - 0s 4ms/step - loss: 747.1047 - mae: 747.1047\n",
            "Epoch 19/100\n",
            "3/3 [==============================] - 0s 3ms/step - loss: 775.9041 - mae: 775.9041\n",
            "Epoch 20/100\n",
            "3/3 [==============================] - 0s 5ms/step - loss: 773.3795 - mae: 773.3795\n",
            "Epoch 21/100\n",
            "3/3 [==============================] - 0s 5ms/step - loss: 773.3885 - mae: 773.3885\n",
            "Epoch 22/100\n",
            "3/3 [==============================] - 0s 4ms/step - loss: 764.0299 - mae: 764.0299\n",
            "Epoch 23/100\n",
            "3/3 [==============================] - 0s 4ms/step - loss: 792.8395 - mae: 792.8395\n",
            "Epoch 24/100\n",
            "3/3 [==============================] - 0s 4ms/step - loss: 743.1302 - mae: 743.1302\n",
            "Epoch 25/100\n",
            "3/3 [==============================] - 0s 3ms/step - loss: 811.6419 - mae: 811.6419\n",
            "Epoch 26/100\n",
            "3/3 [==============================] - 0s 3ms/step - loss: 762.1014 - mae: 762.1014\n",
            "Epoch 27/100\n",
            "3/3 [==============================] - 0s 4ms/step - loss: 824.8840 - mae: 824.8840\n",
            "Epoch 28/100\n",
            "3/3 [==============================] - 0s 3ms/step - loss: 743.8314 - mae: 743.8314\n",
            "Epoch 29/100\n",
            "3/3 [==============================] - 0s 4ms/step - loss: 839.0988 - mae: 839.0988\n",
            "Epoch 30/100\n",
            "3/3 [==============================] - 0s 3ms/step - loss: 615.7791 - mae: 615.7791\n",
            "Epoch 31/100\n",
            "3/3 [==============================] - 0s 4ms/step - loss: 930.0397 - mae: 930.0397\n",
            "Epoch 32/100\n",
            "3/3 [==============================] - 0s 3ms/step - loss: 763.7621 - mae: 763.7621\n",
            "Epoch 33/100\n",
            "3/3 [==============================] - 0s 4ms/step - loss: 736.4993 - mae: 736.4993\n",
            "Epoch 34/100\n",
            "3/3 [==============================] - 0s 4ms/step - loss: 919.3054 - mae: 919.3054\n",
            "Epoch 35/100\n",
            "3/3 [==============================] - 0s 3ms/step - loss: 664.5387 - mae: 664.5387\n",
            "Epoch 36/100\n",
            "3/3 [==============================] - 0s 4ms/step - loss: 920.1562 - mae: 920.1562\n",
            "Epoch 37/100\n",
            "3/3 [==============================] - 0s 5ms/step - loss: 820.8080 - mae: 820.8080\n",
            "Epoch 38/100\n",
            "3/3 [==============================] - 0s 8ms/step - loss: 699.7460 - mae: 699.7460\n",
            "Epoch 39/100\n",
            "3/3 [==============================] - 0s 3ms/step - loss: 828.0195 - mae: 828.0195\n",
            "Epoch 40/100\n",
            "3/3 [==============================] - 0s 5ms/step - loss: 571.5756 - mae: 571.5756\n",
            "Epoch 41/100\n",
            "3/3 [==============================] - 0s 3ms/step - loss: 857.9631 - mae: 857.9631\n",
            "Epoch 42/100\n",
            "3/3 [==============================] - 0s 4ms/step - loss: 721.9691 - mae: 721.9691\n",
            "Epoch 43/100\n",
            "3/3 [==============================] - 0s 5ms/step - loss: 844.8547 - mae: 844.8547\n",
            "Epoch 44/100\n",
            "3/3 [==============================] - 0s 6ms/step - loss: 667.8045 - mae: 667.8045\n",
            "Epoch 45/100\n",
            "3/3 [==============================] - 0s 3ms/step - loss: 934.4777 - mae: 934.4777\n",
            "Epoch 46/100\n",
            "3/3 [==============================] - 0s 3ms/step - loss: 710.5765 - mae: 710.5765\n",
            "Epoch 47/100\n",
            "3/3 [==============================] - 0s 4ms/step - loss: 869.8578 - mae: 869.8578\n",
            "Epoch 48/100\n",
            "3/3 [==============================] - 0s 3ms/step - loss: 717.6373 - mae: 717.6373\n",
            "Epoch 49/100\n",
            "3/3 [==============================] - 0s 4ms/step - loss: 787.7897 - mae: 787.7897\n",
            "Epoch 50/100\n",
            "3/3 [==============================] - 0s 9ms/step - loss: 632.7455 - mae: 632.7455\n",
            "Epoch 51/100\n",
            "3/3 [==============================] - 0s 3ms/step - loss: 961.9413 - mae: 961.9413\n",
            "Epoch 52/100\n",
            "3/3 [==============================] - 0s 3ms/step - loss: 666.0344 - mae: 666.0344\n",
            "Epoch 53/100\n",
            "3/3 [==============================] - 0s 3ms/step - loss: 863.6959 - mae: 863.6959\n",
            "Epoch 54/100\n",
            "3/3 [==============================] - 0s 6ms/step - loss: 664.8141 - mae: 664.8141\n",
            "Epoch 55/100\n",
            "3/3 [==============================] - 0s 4ms/step - loss: 876.5664 - mae: 876.5664\n",
            "Epoch 56/100\n",
            "3/3 [==============================] - 0s 7ms/step - loss: 591.4769 - mae: 591.4769\n",
            "Epoch 57/100\n",
            "3/3 [==============================] - 0s 4ms/step - loss: 1068.8711 - mae: 1068.8711\n",
            "Epoch 58/100\n",
            "3/3 [==============================] - 0s 4ms/step - loss: 814.2362 - mae: 814.2362\n",
            "Epoch 59/100\n",
            "3/3 [==============================] - 0s 5ms/step - loss: 867.9132 - mae: 867.9132\n",
            "Epoch 60/100\n",
            "3/3 [==============================] - 0s 7ms/step - loss: 670.6224 - mae: 670.6224\n",
            "Epoch 61/100\n",
            "3/3 [==============================] - 0s 3ms/step - loss: 899.5309 - mae: 899.5309\n",
            "Epoch 62/100\n",
            "3/3 [==============================] - 0s 2ms/step - loss: 629.7551 - mae: 629.7551\n",
            "Epoch 63/100\n",
            "3/3 [==============================] - 0s 4ms/step - loss: 984.2762 - mae: 984.2762\n",
            "Epoch 64/100\n",
            "3/3 [==============================] - 0s 5ms/step - loss: 675.2623 - mae: 675.2623\n",
            "Epoch 65/100\n",
            "3/3 [==============================] - 0s 4ms/step - loss: 771.8927 - mae: 771.8927\n",
            "Epoch 66/100\n",
            "3/3 [==============================] - 0s 6ms/step - loss: 674.8657 - mae: 674.8657\n",
            "Epoch 67/100\n",
            "3/3 [==============================] - 0s 5ms/step - loss: 933.4572 - mae: 933.4572\n",
            "Epoch 68/100\n",
            "3/3 [==============================] - 0s 4ms/step - loss: 664.3804 - mae: 664.3804\n",
            "Epoch 69/100\n",
            "3/3 [==============================] - 0s 3ms/step - loss: 885.3576 - mae: 885.3576\n",
            "Epoch 70/100\n",
            "3/3 [==============================] - 0s 2ms/step - loss: 689.8286 - mae: 689.8286\n",
            "Epoch 71/100\n",
            "3/3 [==============================] - 0s 4ms/step - loss: 871.6187 - mae: 871.6187\n",
            "Epoch 72/100\n",
            "3/3 [==============================] - 0s 4ms/step - loss: 673.8908 - mae: 673.8908\n",
            "Epoch 73/100\n",
            "3/3 [==============================] - 0s 3ms/step - loss: 843.2324 - mae: 843.2324\n",
            "Epoch 74/100\n",
            "3/3 [==============================] - 0s 2ms/step - loss: 679.2067 - mae: 679.2067\n",
            "Epoch 75/100\n",
            "3/3 [==============================] - 0s 3ms/step - loss: 908.7070 - mae: 908.7070\n",
            "Epoch 76/100\n",
            "3/3 [==============================] - 0s 3ms/step - loss: 715.2322 - mae: 715.2322\n",
            "Epoch 77/100\n",
            "3/3 [==============================] - 0s 3ms/step - loss: 820.9016 - mae: 820.9016\n",
            "Epoch 78/100\n",
            "3/3 [==============================] - 0s 2ms/step - loss: 727.7451 - mae: 727.7451\n",
            "Epoch 79/100\n",
            "3/3 [==============================] - 0s 2ms/step - loss: 815.7827 - mae: 815.7827\n",
            "Epoch 80/100\n",
            "3/3 [==============================] - 0s 4ms/step - loss: 665.7814 - mae: 665.7814\n",
            "Epoch 81/100\n",
            "3/3 [==============================] - 0s 4ms/step - loss: 1160.3665 - mae: 1160.3665\n",
            "Epoch 82/100\n",
            "3/3 [==============================] - 0s 4ms/step - loss: 677.7902 - mae: 677.7902\n",
            "Epoch 83/100\n",
            "3/3 [==============================] - 0s 4ms/step - loss: 919.3865 - mae: 919.3865\n",
            "Epoch 84/100\n",
            "3/3 [==============================] - 0s 8ms/step - loss: 715.7395 - mae: 715.7395\n",
            "Epoch 85/100\n",
            "3/3 [==============================] - 0s 4ms/step - loss: 900.1551 - mae: 900.1551\n",
            "Epoch 86/100\n",
            "3/3 [==============================] - 0s 4ms/step - loss: 646.4662 - mae: 646.4662\n",
            "Epoch 87/100\n",
            "3/3 [==============================] - 0s 4ms/step - loss: 989.9017 - mae: 989.9017\n",
            "Epoch 88/100\n",
            "3/3 [==============================] - 0s 3ms/step - loss: 645.0448 - mae: 645.0448\n",
            "Epoch 89/100\n",
            "3/3 [==============================] - 0s 2ms/step - loss: 965.8384 - mae: 965.8384\n",
            "Epoch 90/100\n",
            "3/3 [==============================] - 0s 2ms/step - loss: 708.3109 - mae: 708.3109\n",
            "Epoch 91/100\n",
            "3/3 [==============================] - 0s 5ms/step - loss: 823.4998 - mae: 823.4998\n",
            "Epoch 92/100\n",
            "3/3 [==============================] - 0s 5ms/step - loss: 864.9467 - mae: 864.9467\n",
            "Epoch 93/100\n",
            "3/3 [==============================] - 0s 3ms/step - loss: 771.5243 - mae: 771.5243\n",
            "Epoch 94/100\n",
            "3/3 [==============================] - 0s 2ms/step - loss: 756.4188 - mae: 756.4188\n",
            "Epoch 95/100\n",
            "3/3 [==============================] - 0s 5ms/step - loss: 796.7980 - mae: 796.7980\n",
            "Epoch 96/100\n",
            "3/3 [==============================] - 0s 2ms/step - loss: 648.3916 - mae: 648.3916\n",
            "Epoch 97/100\n",
            "3/3 [==============================] - 0s 3ms/step - loss: 922.6844 - mae: 922.6844\n",
            "Epoch 98/100\n",
            "3/3 [==============================] - 0s 4ms/step - loss: 776.4069 - mae: 776.4069\n",
            "Epoch 99/100\n",
            "3/3 [==============================] - 0s 4ms/step - loss: 664.6142 - mae: 664.6142\n",
            "Epoch 100/100\n",
            "3/3 [==============================] - 0s 2ms/step - loss: 1008.8662 - mae: 1008.8662\n"
          ],
          "name": "stdout"
        }
      ]
    },
    {
      "cell_type": "code",
      "metadata": {
        "colab": {
          "base_uri": "https://localhost:8080/"
        },
        "id": "42603o1zvVwB",
        "outputId": "c756f1d6-dcaf-478f-fb34-7d54e3288e2a"
      },
      "source": [
        "model_1.evaluate(X_test,y_test)"
      ],
      "execution_count": null,
      "outputs": [
        {
          "output_type": "stream",
          "text": [
            "1/1 [==============================] - 0s 93ms/step - loss: 296.8331 - mae: 296.8331\n"
          ],
          "name": "stdout"
        },
        {
          "output_type": "execute_result",
          "data": {
            "text/plain": [
              "[296.83306884765625, 296.83306884765625]"
            ]
          },
          "metadata": {
            "tags": []
          },
          "execution_count": 80
        }
      ]
    },
    {
      "cell_type": "code",
      "metadata": {
        "colab": {
          "base_uri": "https://localhost:8080/"
        },
        "id": "UiC8YURbveLR",
        "outputId": "ffdfa245-9664-4783-9244-ad02acc66276"
      },
      "source": [
        "#Q2\n",
        "#improve the earlier model\n",
        "\n",
        "tf.random.set_seed(42)\n",
        "\n",
        "model_2 = tf.keras.Sequential([\n",
        "  tf.keras.layers.Dense(200),\n",
        "  tf.keras.layers.Dense(50),\n",
        "  tf.keras.layers.Dense(25),\n",
        "  tf.keras.layers.Dense(1),\n",
        "])\n",
        "\n",
        "model_2.compile(loss = 'mae',\n",
        "                optimizer = tf.keras.optimizers.Adam(),\n",
        "                metrics = 'mae')\n",
        "\n",
        "history_2 = model_2.fit(X_train, y_train,epochs = 40)"
      ],
      "execution_count": null,
      "outputs": [
        {
          "output_type": "stream",
          "text": [
            "Epoch 1/40\n",
            "3/3 [==============================] - 0s 4ms/step - loss: 239.6846 - mae: 239.6846\n",
            "Epoch 2/40\n",
            "3/3 [==============================] - 0s 4ms/step - loss: 46.0353 - mae: 46.0353\n",
            "Epoch 3/40\n",
            "3/3 [==============================] - 0s 3ms/step - loss: 87.7388 - mae: 87.7388\n",
            "Epoch 4/40\n",
            "3/3 [==============================] - 0s 4ms/step - loss: 34.7451 - mae: 34.7451\n",
            "Epoch 5/40\n",
            "3/3 [==============================] - 0s 4ms/step - loss: 42.3423 - mae: 42.3423\n",
            "Epoch 6/40\n",
            "3/3 [==============================] - 0s 4ms/step - loss: 22.4858 - mae: 22.4858\n",
            "Epoch 7/40\n",
            "3/3 [==============================] - 0s 3ms/step - loss: 22.4428 - mae: 22.4428\n",
            "Epoch 8/40\n",
            "3/3 [==============================] - 0s 3ms/step - loss: 11.3473 - mae: 11.3473\n",
            "Epoch 9/40\n",
            "3/3 [==============================] - 0s 3ms/step - loss: 9.9711 - mae: 9.9711\n",
            "Epoch 10/40\n",
            "3/3 [==============================] - 0s 5ms/step - loss: 22.7678 - mae: 22.7678\n",
            "Epoch 11/40\n",
            "3/3 [==============================] - 0s 4ms/step - loss: 11.8240 - mae: 11.8240\n",
            "Epoch 12/40\n",
            "3/3 [==============================] - 0s 4ms/step - loss: 13.3251 - mae: 13.3251\n",
            "Epoch 13/40\n",
            "3/3 [==============================] - 0s 4ms/step - loss: 18.0270 - mae: 18.0270\n",
            "Epoch 14/40\n",
            "3/3 [==============================] - 0s 4ms/step - loss: 11.3211 - mae: 11.3211\n",
            "Epoch 15/40\n",
            "3/3 [==============================] - 0s 4ms/step - loss: 12.8066 - mae: 12.8066\n",
            "Epoch 16/40\n",
            "3/3 [==============================] - 0s 5ms/step - loss: 8.4630 - mae: 8.4630\n",
            "Epoch 17/40\n",
            "3/3 [==============================] - 0s 3ms/step - loss: 10.9605 - mae: 10.9605\n",
            "Epoch 18/40\n",
            "3/3 [==============================] - 0s 3ms/step - loss: 9.5383 - mae: 9.5383\n",
            "Epoch 19/40\n",
            "3/3 [==============================] - 0s 4ms/step - loss: 8.1117 - mae: 8.1117\n",
            "Epoch 20/40\n",
            "3/3 [==============================] - 0s 9ms/step - loss: 7.4224 - mae: 7.4224\n",
            "Epoch 21/40\n",
            "3/3 [==============================] - 0s 5ms/step - loss: 6.0169 - mae: 6.0169\n",
            "Epoch 22/40\n",
            "3/3 [==============================] - 0s 4ms/step - loss: 6.4214 - mae: 6.4214\n",
            "Epoch 23/40\n",
            "3/3 [==============================] - 0s 4ms/step - loss: 6.1480 - mae: 6.1480\n",
            "Epoch 24/40\n",
            "3/3 [==============================] - 0s 3ms/step - loss: 6.3215 - mae: 6.3215\n",
            "Epoch 25/40\n",
            "3/3 [==============================] - 0s 3ms/step - loss: 7.5303 - mae: 7.5303\n",
            "Epoch 26/40\n",
            "3/3 [==============================] - 0s 3ms/step - loss: 8.3672 - mae: 8.3672\n",
            "Epoch 27/40\n",
            "3/3 [==============================] - 0s 3ms/step - loss: 9.8658 - mae: 9.8658\n",
            "Epoch 28/40\n",
            "3/3 [==============================] - 0s 3ms/step - loss: 10.4007 - mae: 10.4007\n",
            "Epoch 29/40\n",
            "3/3 [==============================] - 0s 5ms/step - loss: 5.6378 - mae: 5.6378\n",
            "Epoch 30/40\n",
            "3/3 [==============================] - 0s 6ms/step - loss: 5.3882 - mae: 5.3882\n",
            "Epoch 31/40\n",
            "3/3 [==============================] - 0s 4ms/step - loss: 4.3931 - mae: 4.3931\n",
            "Epoch 32/40\n",
            "3/3 [==============================] - 0s 4ms/step - loss: 3.8210 - mae: 3.8210\n",
            "Epoch 33/40\n",
            "3/3 [==============================] - 0s 3ms/step - loss: 4.3936 - mae: 4.3936\n",
            "Epoch 34/40\n",
            "3/3 [==============================] - 0s 4ms/step - loss: 5.2084 - mae: 5.2084\n",
            "Epoch 35/40\n",
            "3/3 [==============================] - 0s 3ms/step - loss: 4.6582 - mae: 4.6582\n",
            "Epoch 36/40\n",
            "3/3 [==============================] - 0s 7ms/step - loss: 4.3474 - mae: 4.3474\n",
            "Epoch 37/40\n",
            "3/3 [==============================] - 0s 4ms/step - loss: 6.1525 - mae: 6.1525\n",
            "Epoch 38/40\n",
            "3/3 [==============================] - 0s 4ms/step - loss: 7.4364 - mae: 7.4364\n",
            "Epoch 39/40\n",
            "3/3 [==============================] - 0s 5ms/step - loss: 5.8138 - mae: 5.8138\n",
            "Epoch 40/40\n",
            "3/3 [==============================] - 0s 3ms/step - loss: 6.0803 - mae: 6.0803\n"
          ],
          "name": "stdout"
        }
      ]
    },
    {
      "cell_type": "code",
      "metadata": {
        "colab": {
          "base_uri": "https://localhost:8080/"
        },
        "id": "GUOPcJuZv4rQ",
        "outputId": "8c1dc8f4-9d39-4f87-aac9-62172382c5f4"
      },
      "source": [
        "model_2.evaluate(X_test,y_test)"
      ],
      "execution_count": null,
      "outputs": [
        {
          "output_type": "stream",
          "text": [
            "1/1 [==============================] - 0s 98ms/step - loss: 9.1832 - mae: 9.1832\n"
          ],
          "name": "stdout"
        },
        {
          "output_type": "execute_result",
          "data": {
            "text/plain": [
              "[9.183221817016602, 9.183221817016602]"
            ]
          },
          "metadata": {
            "tags": []
          },
          "execution_count": 75
        }
      ]
    },
    {
      "cell_type": "code",
      "metadata": {
        "colab": {
          "base_uri": "https://localhost:8080/"
        },
        "id": "lU7ZgdNzwDGL",
        "outputId": "2d5273b0-9fc2-4dcd-9a0a-55ecc6c2f8ff"
      },
      "source": [
        "model_2.predict([50]),model_1.predict([50])"
      ],
      "execution_count": null,
      "outputs": [
        {
          "output_type": "execute_result",
          "data": {
            "text/plain": [
              "(array([[52.281017]], dtype=float32), array([[34.043667]], dtype=float32))"
            ]
          },
          "metadata": {
            "tags": []
          },
          "execution_count": 76
        }
      ]
    },
    {
      "cell_type": "code",
      "metadata": {
        "colab": {
          "base_uri": "https://localhost:8080/",
          "height": 297
        },
        "id": "kcM74rbgyxLb",
        "outputId": "665855b4-579c-49a4-bd44-411c194a5724"
      },
      "source": [
        "pd.DataFrame(history_1.history).plot()\n",
        "plt.ylabel(\"loss\")\n",
        "plt.xlabel(\"epochs\")"
      ],
      "execution_count": null,
      "outputs": [
        {
          "output_type": "execute_result",
          "data": {
            "text/plain": [
              "Text(0.5, 0, 'epochs')"
            ]
          },
          "metadata": {
            "tags": []
          },
          "execution_count": 81
        },
        {
          "output_type": "display_data",
          "data": {
            "image/png": "[encoded data removed]",
            "text/plain": [
              "<Figure size 432x288 with 1 Axes>"
            ]
          },
          "metadata": {
            "tags": [],
            "needs_background": "light"
          }
        }
      ]
    },
    {
      "cell_type": "code",
      "metadata": {
        "colab": {
          "base_uri": "https://localhost:8080/",
          "height": 300
        },
        "id": "oQfeB_G0wJLY",
        "outputId": "530fcc91-04ba-460e-ff8c-c5ec8825b988"
      },
      "source": [
        "pd.DataFrame(history_2.history).plot()\n",
        "plt.ylabel(\"loss\")\n",
        "plt.xlabel(\"epochs\")"
      ],
      "execution_count": null,
      "outputs": [
        {
          "output_type": "execute_result",
          "data": {
            "text/plain": [
              "Text(0.5, 0, 'epochs')"
            ]
          },
          "metadata": {
            "tags": []
          },
          "execution_count": 77
        },
        {
          "output_type": "display_data",
          "data": {
            "image/png": "[encoded data removed]",
            "text/plain": [
              "<Figure size 432x288 with 1 Axes>"
            ]
          },
          "metadata": {
            "tags": [],
            "needs_background": "light"
          }
        }
      ]
    },
    {
      "cell_type": "code",
      "metadata": {
        "id": "9923xmOhxL9f"
      },
      "source": [
        "#Q3 Insurance Model build it larger\n",
        "from sklearn.compose import make_column_transformer\n",
        "from sklearn.preprocessing import StandardScaler,OneHotEncoder\n",
        "from sklearn.model_selection import train_test_split\n",
        "\n",
        "\n",
        "insurance = pd.read_csv(\"https://raw.githubusercontent.com/stedy/Machine-Learning-with-R-datasets/master/insurance.csv\")\n",
        "insurance.head()\n",
        "\n",
        "ct  = make_column_transformer(\n",
        "(StandardScaler(), [\"age\",\"bmi\", \"children\"]),\n",
        "(OneHotEncoder(handle_unknown = \"ignore\"), [\"sex\",\"smoker\", \"region\"])\n",
        ")\n",
        "\n",
        "X = insurance.drop(\"charges\",axis= 1)\n",
        "y = insurance[\"charges\"]\n",
        "\n",
        "\n",
        "X_train, X_test, y_train, y_test = train_test_split(X, y, test_size =0.2, random_state =42)\n",
        "\n",
        "ct.fit(X_train)\n",
        "\n",
        "X_train_standard = ct.transform(X_train)\n",
        "X_test_standard = ct.transform(X_test)"
      ],
      "execution_count": null,
      "outputs": []
    },
    {
      "cell_type": "code",
      "metadata": {
        "colab": {
          "base_uri": "https://localhost:8080/"
        },
        "id": "hv44nGlc2FZ0",
        "outputId": "344bf8ea-add6-484e-a5dd-2957620231ff"
      },
      "source": [
        "len(X_train),len(y_train)"
      ],
      "execution_count": null,
      "outputs": [
        {
          "output_type": "execute_result",
          "data": {
            "text/plain": [
              "(1070, 1070)"
            ]
          },
          "metadata": {
            "tags": []
          },
          "execution_count": 94
        }
      ]
    },
    {
      "cell_type": "code",
      "metadata": {
        "colab": {
          "base_uri": "https://localhost:8080/"
        },
        "id": "7W4dU7mY0ym8",
        "outputId": "c3ac2344-6d2e-4999-e020-0f5f5fecbd99"
      },
      "source": [
        "#BUILD the model\n",
        "tf.random.set_seed(42)\n",
        "\n",
        "insurance_model = tf.keras.Sequential([\n",
        "    tf.keras.layers.Dense(50),\n",
        "    tf.keras.layers.Dense(100),\n",
        "    tf.keras.layers.Dense(200),\n",
        "    tf.keras.layers.Dense(1)\n",
        "])\n",
        "\n",
        "insurance_model.compile(loss = tf.keras.losses.mae,\n",
        "                        optimizer = tf.keras.optimizers.Adam(learning_rate=0.01),\n",
        "                        metrics = ['mae'])\n",
        "\n",
        "history_3 = insurance_model.fit(X_train_standard,y_train,epochs = 300)"
      ],
      "execution_count": null,
      "outputs": [
        {
          "output_type": "stream",
          "text": [
            "Epoch 1/300\n",
            "34/34 [==============================] - 0s 2ms/step - loss: 10551.0107 - mae: 10551.0107\n",
            "Epoch 2/300\n",
            "34/34 [==============================] - 0s 2ms/step - loss: 5473.5220 - mae: 5473.5220\n",
            "Epoch 3/300\n",
            "34/34 [==============================] - 0s 2ms/step - loss: 3732.1060 - mae: 3732.1060\n",
            "Epoch 4/300\n",
            "34/34 [==============================] - 0s 2ms/step - loss: 3731.0527 - mae: 3731.0527\n",
            "Epoch 5/300\n",
            "34/34 [==============================] - 0s 2ms/step - loss: 3643.1665 - mae: 3643.1665\n",
            "Epoch 6/300\n",
            "34/34 [==============================] - 0s 2ms/step - loss: 3731.3884 - mae: 3731.3884\n",
            "Epoch 7/300\n",
            "34/34 [==============================] - 0s 2ms/step - loss: 3596.9404 - mae: 3596.9404\n",
            "Epoch 8/300\n",
            "34/34 [==============================] - 0s 2ms/step - loss: 3739.3550 - mae: 3739.3550\n",
            "Epoch 9/300\n",
            "34/34 [==============================] - 0s 2ms/step - loss: 3704.0420 - mae: 3704.0420\n",
            "Epoch 10/300\n",
            "34/34 [==============================] - 0s 2ms/step - loss: 3679.8721 - mae: 3679.8721\n",
            "Epoch 11/300\n",
            "34/34 [==============================] - 0s 2ms/step - loss: 3623.1387 - mae: 3623.1387\n",
            "Epoch 12/300\n",
            "34/34 [==============================] - 0s 2ms/step - loss: 3586.4238 - mae: 3586.4238\n",
            "Epoch 13/300\n",
            "34/34 [==============================] - 0s 2ms/step - loss: 3586.7214 - mae: 3586.7214\n",
            "Epoch 14/300\n",
            "34/34 [==============================] - 0s 2ms/step - loss: 3602.6130 - mae: 3602.6130\n",
            "Epoch 15/300\n",
            "34/34 [==============================] - 0s 2ms/step - loss: 3641.8777 - mae: 3641.8777\n",
            "Epoch 16/300\n",
            "34/34 [==============================] - 0s 2ms/step - loss: 3611.0559 - mae: 3611.0559\n",
            "Epoch 17/300\n",
            "34/34 [==============================] - 0s 2ms/step - loss: 3584.4092 - mae: 3584.4092\n",
            "Epoch 18/300\n",
            "34/34 [==============================] - 0s 2ms/step - loss: 3648.3899 - mae: 3648.3899\n",
            "Epoch 19/300\n",
            "34/34 [==============================] - 0s 2ms/step - loss: 3669.6370 - mae: 3669.6370\n",
            "Epoch 20/300\n",
            "34/34 [==============================] - 0s 2ms/step - loss: 3558.4360 - mae: 3558.4360\n",
            "Epoch 21/300\n",
            "34/34 [==============================] - 0s 2ms/step - loss: 3609.7366 - mae: 3609.7366\n",
            "Epoch 22/300\n",
            "34/34 [==============================] - 0s 3ms/step - loss: 3618.9741 - mae: 3618.9741\n",
            "Epoch 23/300\n",
            "34/34 [==============================] - 0s 2ms/step - loss: 3598.4353 - mae: 3598.4353\n",
            "Epoch 24/300\n",
            "34/34 [==============================] - 0s 2ms/step - loss: 3624.2859 - mae: 3624.2859\n",
            "Epoch 25/300\n",
            "34/34 [==============================] - 0s 2ms/step - loss: 3715.9072 - mae: 3715.9072\n",
            "Epoch 26/300\n",
            "34/34 [==============================] - 0s 2ms/step - loss: 3625.1218 - mae: 3625.1218\n",
            "Epoch 27/300\n",
            "34/34 [==============================] - 0s 2ms/step - loss: 3794.9824 - mae: 3794.9824\n",
            "Epoch 28/300\n",
            "34/34 [==============================] - 0s 2ms/step - loss: 3672.0352 - mae: 3672.0352\n",
            "Epoch 29/300\n",
            "34/34 [==============================] - 0s 2ms/step - loss: 3620.5688 - mae: 3620.5688\n",
            "Epoch 30/300\n",
            "34/34 [==============================] - 0s 2ms/step - loss: 3642.4851 - mae: 3642.4851\n",
            "Epoch 31/300\n",
            "34/34 [==============================] - 0s 2ms/step - loss: 3555.1836 - mae: 3555.1836\n",
            "Epoch 32/300\n",
            "34/34 [==============================] - 0s 2ms/step - loss: 3660.7961 - mae: 3660.7961\n",
            "Epoch 33/300\n",
            "34/34 [==============================] - 0s 2ms/step - loss: 3748.7307 - mae: 3748.7307\n",
            "Epoch 34/300\n",
            "34/34 [==============================] - 0s 2ms/step - loss: 3764.2656 - mae: 3764.2656\n",
            "Epoch 35/300\n",
            "34/34 [==============================] - 0s 2ms/step - loss: 3613.5540 - mae: 3613.5540\n",
            "Epoch 36/300\n",
            "34/34 [==============================] - 0s 2ms/step - loss: 3548.4639 - mae: 3548.4639\n",
            "Epoch 37/300\n",
            "34/34 [==============================] - 0s 2ms/step - loss: 3557.3193 - mae: 3557.3193\n",
            "Epoch 38/300\n",
            "34/34 [==============================] - 0s 2ms/step - loss: 3571.2043 - mae: 3571.2043\n",
            "Epoch 39/300\n",
            "34/34 [==============================] - 0s 2ms/step - loss: 3640.0232 - mae: 3640.0232\n",
            "Epoch 40/300\n",
            "34/34 [==============================] - 0s 2ms/step - loss: 3666.1372 - mae: 3666.1372\n",
            "Epoch 41/300\n",
            "34/34 [==============================] - 0s 2ms/step - loss: 3711.0457 - mae: 3711.0457\n",
            "Epoch 42/300\n",
            "34/34 [==============================] - 0s 2ms/step - loss: 3646.8127 - mae: 3646.8127\n",
            "Epoch 43/300\n",
            "34/34 [==============================] - 0s 2ms/step - loss: 3604.2690 - mae: 3604.2690\n",
            "Epoch 44/300\n",
            "34/34 [==============================] - 0s 2ms/step - loss: 3640.0200 - mae: 3640.0200\n",
            "Epoch 45/300\n",
            "34/34 [==============================] - 0s 2ms/step - loss: 3542.5283 - mae: 3542.5283\n",
            "Epoch 46/300\n",
            "34/34 [==============================] - 0s 2ms/step - loss: 3596.1941 - mae: 3596.1941\n",
            "Epoch 47/300\n",
            "34/34 [==============================] - 0s 2ms/step - loss: 3712.6086 - mae: 3712.6086\n",
            "Epoch 48/300\n",
            "34/34 [==============================] - 0s 2ms/step - loss: 3629.9592 - mae: 3629.9592\n",
            "Epoch 49/300\n",
            "34/34 [==============================] - 0s 2ms/step - loss: 3599.1921 - mae: 3599.1921\n",
            "Epoch 50/300\n",
            "34/34 [==============================] - 0s 2ms/step - loss: 3642.3906 - mae: 3642.3906\n",
            "Epoch 51/300\n",
            "34/34 [==============================] - 0s 2ms/step - loss: 3614.9084 - mae: 3614.9084\n",
            "Epoch 52/300\n",
            "34/34 [==============================] - 0s 2ms/step - loss: 3551.8882 - mae: 3551.8882\n",
            "Epoch 53/300\n",
            "34/34 [==============================] - 0s 2ms/step - loss: 3630.4973 - mae: 3630.4973\n",
            "Epoch 54/300\n",
            "34/34 [==============================] - 0s 2ms/step - loss: 3678.7456 - mae: 3678.7456\n",
            "Epoch 55/300\n",
            "34/34 [==============================] - 0s 2ms/step - loss: 3674.1697 - mae: 3674.1697\n",
            "Epoch 56/300\n",
            "34/34 [==============================] - 0s 2ms/step - loss: 3568.6638 - mae: 3568.6638\n",
            "Epoch 57/300\n",
            "34/34 [==============================] - 0s 2ms/step - loss: 3617.6707 - mae: 3617.6707\n",
            "Epoch 58/300\n",
            "34/34 [==============================] - 0s 2ms/step - loss: 3545.9180 - mae: 3545.9180\n",
            "Epoch 59/300\n",
            "34/34 [==============================] - 0s 2ms/step - loss: 3523.0515 - mae: 3523.0515\n",
            "Epoch 60/300\n",
            "34/34 [==============================] - 0s 2ms/step - loss: 3610.7964 - mae: 3610.7964\n",
            "Epoch 61/300\n",
            "34/34 [==============================] - 0s 2ms/step - loss: 3619.8372 - mae: 3619.8372\n",
            "Epoch 62/300\n",
            "34/34 [==============================] - 0s 2ms/step - loss: 3577.4839 - mae: 3577.4839\n",
            "Epoch 63/300\n",
            "34/34 [==============================] - 0s 2ms/step - loss: 3606.4854 - mae: 3606.4854\n",
            "Epoch 64/300\n",
            "34/34 [==============================] - 0s 2ms/step - loss: 3570.3586 - mae: 3570.3586\n",
            "Epoch 65/300\n",
            "34/34 [==============================] - 0s 2ms/step - loss: 3596.2495 - mae: 3596.2495\n",
            "Epoch 66/300\n",
            "34/34 [==============================] - 0s 2ms/step - loss: 3566.0967 - mae: 3566.0967\n",
            "Epoch 67/300\n",
            "34/34 [==============================] - 0s 2ms/step - loss: 3586.8320 - mae: 3586.8320\n",
            "Epoch 68/300\n",
            "34/34 [==============================] - 0s 2ms/step - loss: 3587.5422 - mae: 3587.5422\n",
            "Epoch 69/300\n",
            "34/34 [==============================] - 0s 2ms/step - loss: 3533.1567 - mae: 3533.1567\n",
            "Epoch 70/300\n",
            "34/34 [==============================] - 0s 2ms/step - loss: 3573.2119 - mae: 3573.2119\n",
            "Epoch 71/300\n",
            "34/34 [==============================] - 0s 2ms/step - loss: 3550.6682 - mae: 3550.6682\n",
            "Epoch 72/300\n",
            "34/34 [==============================] - 0s 2ms/step - loss: 3543.2173 - mae: 3543.2173\n",
            "Epoch 73/300\n",
            "34/34 [==============================] - 0s 2ms/step - loss: 3586.2808 - mae: 3586.2808\n",
            "Epoch 74/300\n",
            "34/34 [==============================] - 0s 2ms/step - loss: 3635.1064 - mae: 3635.1064\n",
            "Epoch 75/300\n",
            "34/34 [==============================] - 0s 3ms/step - loss: 3584.8557 - mae: 3584.8557\n",
            "Epoch 76/300\n",
            "34/34 [==============================] - 0s 2ms/step - loss: 3599.8713 - mae: 3599.8713\n",
            "Epoch 77/300\n",
            "34/34 [==============================] - 0s 2ms/step - loss: 3579.8333 - mae: 3579.8333\n",
            "Epoch 78/300\n",
            "34/34 [==============================] - 0s 2ms/step - loss: 3579.8293 - mae: 3579.8293\n",
            "Epoch 79/300\n",
            "34/34 [==============================] - 0s 2ms/step - loss: 3619.3027 - mae: 3619.3027\n",
            "Epoch 80/300\n",
            "34/34 [==============================] - 0s 2ms/step - loss: 3608.8425 - mae: 3608.8425\n",
            "Epoch 81/300\n",
            "34/34 [==============================] - 0s 2ms/step - loss: 3757.7190 - mae: 3757.7190\n",
            "Epoch 82/300\n",
            "34/34 [==============================] - 0s 2ms/step - loss: 3669.7544 - mae: 3669.7544\n",
            "Epoch 83/300\n",
            "34/34 [==============================] - 0s 2ms/step - loss: 3603.9963 - mae: 3603.9963\n",
            "Epoch 84/300\n",
            "34/34 [==============================] - 0s 2ms/step - loss: 3681.7358 - mae: 3681.7358\n",
            "Epoch 85/300\n",
            "34/34 [==============================] - 0s 2ms/step - loss: 3575.6514 - mae: 3575.6514\n",
            "Epoch 86/300\n",
            "34/34 [==============================] - 0s 2ms/step - loss: 3687.2815 - mae: 3687.2815\n",
            "Epoch 87/300\n",
            "34/34 [==============================] - 0s 2ms/step - loss: 3611.1160 - mae: 3611.1160\n",
            "Epoch 88/300\n",
            "34/34 [==============================] - 0s 2ms/step - loss: 3561.3796 - mae: 3561.3796\n",
            "Epoch 89/300\n",
            "34/34 [==============================] - 0s 2ms/step - loss: 3566.6685 - mae: 3566.6685\n",
            "Epoch 90/300\n",
            "34/34 [==============================] - 0s 2ms/step - loss: 3591.3179 - mae: 3591.3179\n",
            "Epoch 91/300\n",
            "34/34 [==============================] - 0s 2ms/step - loss: 3584.1919 - mae: 3584.1919\n",
            "Epoch 92/300\n",
            "34/34 [==============================] - 0s 2ms/step - loss: 3811.5049 - mae: 3811.5049\n",
            "Epoch 93/300\n",
            "34/34 [==============================] - 0s 2ms/step - loss: 3649.9490 - mae: 3649.9490\n",
            "Epoch 94/300\n",
            "34/34 [==============================] - 0s 2ms/step - loss: 3584.8069 - mae: 3584.8069\n",
            "Epoch 95/300\n",
            "34/34 [==============================] - 0s 2ms/step - loss: 3586.0483 - mae: 3586.0483\n",
            "Epoch 96/300\n",
            "34/34 [==============================] - 0s 2ms/step - loss: 3587.0952 - mae: 3587.0952\n",
            "Epoch 97/300\n",
            "34/34 [==============================] - 0s 2ms/step - loss: 3672.8723 - mae: 3672.8723\n",
            "Epoch 98/300\n",
            "34/34 [==============================] - 0s 2ms/step - loss: 3573.5979 - mae: 3573.5979\n",
            "Epoch 99/300\n",
            "34/34 [==============================] - 0s 2ms/step - loss: 3595.4763 - mae: 3595.4763\n",
            "Epoch 100/300\n",
            "34/34 [==============================] - 0s 2ms/step - loss: 3538.2322 - mae: 3538.2322\n",
            "Epoch 101/300\n",
            "34/34 [==============================] - 0s 2ms/step - loss: 3573.6609 - mae: 3573.6609\n",
            "Epoch 102/300\n",
            "34/34 [==============================] - 0s 2ms/step - loss: 3661.1680 - mae: 3661.1680\n",
            "Epoch 103/300\n",
            "34/34 [==============================] - 0s 2ms/step - loss: 3624.7776 - mae: 3624.7776\n",
            "Epoch 104/300\n",
            "34/34 [==============================] - 0s 2ms/step - loss: 3559.8672 - mae: 3559.8672\n",
            "Epoch 105/300\n",
            "34/34 [==============================] - 0s 2ms/step - loss: 3633.5349 - mae: 3633.5349\n",
            "Epoch 106/300\n",
            "34/34 [==============================] - 0s 2ms/step - loss: 3541.4009 - mae: 3541.4009\n",
            "Epoch 107/300\n",
            "34/34 [==============================] - 0s 2ms/step - loss: 3550.8525 - mae: 3550.8525\n",
            "Epoch 108/300\n",
            "34/34 [==============================] - 0s 2ms/step - loss: 3540.2922 - mae: 3540.2922\n",
            "Epoch 109/300\n",
            "34/34 [==============================] - 0s 2ms/step - loss: 3682.3535 - mae: 3682.3535\n",
            "Epoch 110/300\n",
            "34/34 [==============================] - 0s 2ms/step - loss: 3641.8254 - mae: 3641.8254\n",
            "Epoch 111/300\n",
            "34/34 [==============================] - 0s 2ms/step - loss: 3617.2231 - mae: 3617.2231\n",
            "Epoch 112/300\n",
            "34/34 [==============================] - 0s 2ms/step - loss: 3578.5872 - mae: 3578.5872\n",
            "Epoch 113/300\n",
            "34/34 [==============================] - 0s 2ms/step - loss: 3706.0356 - mae: 3706.0356\n",
            "Epoch 114/300\n",
            "34/34 [==============================] - 0s 2ms/step - loss: 3605.9734 - mae: 3605.9734\n",
            "Epoch 115/300\n",
            "34/34 [==============================] - 0s 2ms/step - loss: 3586.9192 - mae: 3586.9192\n",
            "Epoch 116/300\n",
            "34/34 [==============================] - 0s 2ms/step - loss: 3704.3955 - mae: 3704.3955\n",
            "Epoch 117/300\n",
            "34/34 [==============================] - 0s 2ms/step - loss: 3575.2332 - mae: 3575.2332\n",
            "Epoch 118/300\n",
            "34/34 [==============================] - 0s 2ms/step - loss: 3554.8540 - mae: 3554.8540\n",
            "Epoch 119/300\n",
            "34/34 [==============================] - 0s 2ms/step - loss: 3572.8860 - mae: 3572.8860\n",
            "Epoch 120/300\n",
            "34/34 [==============================] - 0s 2ms/step - loss: 3555.7507 - mae: 3555.7507\n",
            "Epoch 121/300\n",
            "34/34 [==============================] - 0s 2ms/step - loss: 3588.6365 - mae: 3588.6365\n",
            "Epoch 122/300\n",
            "34/34 [==============================] - 0s 2ms/step - loss: 3590.5872 - mae: 3590.5872\n",
            "Epoch 123/300\n",
            "34/34 [==============================] - 0s 2ms/step - loss: 3554.4067 - mae: 3554.4067\n",
            "Epoch 124/300\n",
            "34/34 [==============================] - 0s 2ms/step - loss: 3600.1626 - mae: 3600.1626\n",
            "Epoch 125/300\n",
            "34/34 [==============================] - 0s 2ms/step - loss: 3624.7908 - mae: 3624.7908\n",
            "Epoch 126/300\n",
            "34/34 [==============================] - 0s 2ms/step - loss: 3641.1836 - mae: 3641.1836\n",
            "Epoch 127/300\n",
            "34/34 [==============================] - 0s 2ms/step - loss: 3603.7637 - mae: 3603.7637\n",
            "Epoch 128/300\n",
            "34/34 [==============================] - 0s 2ms/step - loss: 3626.9487 - mae: 3626.9487\n",
            "Epoch 129/300\n",
            "34/34 [==============================] - 0s 2ms/step - loss: 3624.7158 - mae: 3624.7158\n",
            "Epoch 130/300\n",
            "34/34 [==============================] - 0s 2ms/step - loss: 3589.4604 - mae: 3589.4604\n",
            "Epoch 131/300\n",
            "34/34 [==============================] - 0s 3ms/step - loss: 3517.8533 - mae: 3517.8533\n",
            "Epoch 132/300\n",
            "34/34 [==============================] - 0s 2ms/step - loss: 3614.5789 - mae: 3614.5789\n",
            "Epoch 133/300\n",
            "34/34 [==============================] - 0s 2ms/step - loss: 3558.5068 - mae: 3558.5068\n",
            "Epoch 134/300\n",
            "34/34 [==============================] - 0s 2ms/step - loss: 3589.4749 - mae: 3589.4749\n",
            "Epoch 135/300\n",
            "34/34 [==============================] - 0s 2ms/step - loss: 3599.1987 - mae: 3599.1987\n",
            "Epoch 136/300\n",
            "34/34 [==============================] - 0s 2ms/step - loss: 3550.4602 - mae: 3550.4602\n",
            "Epoch 137/300\n",
            "34/34 [==============================] - 0s 2ms/step - loss: 3577.5276 - mae: 3577.5276\n",
            "Epoch 138/300\n",
            "34/34 [==============================] - 0s 2ms/step - loss: 3589.4397 - mae: 3589.4397\n",
            "Epoch 139/300\n",
            "34/34 [==============================] - 0s 2ms/step - loss: 3591.7783 - mae: 3591.7783\n",
            "Epoch 140/300\n",
            "34/34 [==============================] - 0s 2ms/step - loss: 3565.4211 - mae: 3565.4211\n",
            "Epoch 141/300\n",
            "34/34 [==============================] - 0s 2ms/step - loss: 3593.0266 - mae: 3593.0266\n",
            "Epoch 142/300\n",
            "34/34 [==============================] - 0s 2ms/step - loss: 3684.5098 - mae: 3684.5098\n",
            "Epoch 143/300\n",
            "34/34 [==============================] - 0s 2ms/step - loss: 3582.9485 - mae: 3582.9485\n",
            "Epoch 144/300\n",
            "34/34 [==============================] - 0s 2ms/step - loss: 3542.5239 - mae: 3542.5239\n",
            "Epoch 145/300\n",
            "34/34 [==============================] - 0s 2ms/step - loss: 3539.7822 - mae: 3539.7822\n",
            "Epoch 146/300\n",
            "34/34 [==============================] - 0s 2ms/step - loss: 3575.8452 - mae: 3575.8452\n",
            "Epoch 147/300\n",
            "34/34 [==============================] - 0s 2ms/step - loss: 3605.3567 - mae: 3605.3567\n",
            "Epoch 148/300\n",
            "34/34 [==============================] - 0s 2ms/step - loss: 3709.7380 - mae: 3709.7380\n",
            "Epoch 149/300\n",
            "34/34 [==============================] - 0s 2ms/step - loss: 3609.4985 - mae: 3609.4985\n",
            "Epoch 150/300\n",
            "34/34 [==============================] - 0s 2ms/step - loss: 3556.1370 - mae: 3556.1370\n",
            "Epoch 151/300\n",
            "34/34 [==============================] - 0s 3ms/step - loss: 3565.4399 - mae: 3565.4399\n",
            "Epoch 152/300\n",
            "34/34 [==============================] - 0s 2ms/step - loss: 3736.8464 - mae: 3736.8464\n",
            "Epoch 153/300\n",
            "34/34 [==============================] - 0s 2ms/step - loss: 3538.0171 - mae: 3538.0171\n",
            "Epoch 154/300\n",
            "34/34 [==============================] - 0s 2ms/step - loss: 3609.0488 - mae: 3609.0488\n",
            "Epoch 155/300\n",
            "34/34 [==============================] - 0s 2ms/step - loss: 3598.2939 - mae: 3598.2939\n",
            "Epoch 156/300\n",
            "34/34 [==============================] - 0s 2ms/step - loss: 3555.6582 - mae: 3555.6582\n",
            "Epoch 157/300\n",
            "34/34 [==============================] - 0s 2ms/step - loss: 3553.0952 - mae: 3553.0952\n",
            "Epoch 158/300\n",
            "34/34 [==============================] - 0s 2ms/step - loss: 3592.1978 - mae: 3592.1978\n",
            "Epoch 159/300\n",
            "34/34 [==============================] - 0s 2ms/step - loss: 3533.7676 - mae: 3533.7676\n",
            "Epoch 160/300\n",
            "34/34 [==============================] - 0s 2ms/step - loss: 3592.5103 - mae: 3592.5103\n",
            "Epoch 161/300\n",
            "34/34 [==============================] - 0s 2ms/step - loss: 3543.3655 - mae: 3543.3655\n",
            "Epoch 162/300\n",
            "34/34 [==============================] - 0s 2ms/step - loss: 3538.0762 - mae: 3538.0762\n",
            "Epoch 163/300\n",
            "34/34 [==============================] - 0s 2ms/step - loss: 3569.1899 - mae: 3569.1899\n",
            "Epoch 164/300\n",
            "34/34 [==============================] - 0s 2ms/step - loss: 3706.0559 - mae: 3706.0559\n",
            "Epoch 165/300\n",
            "34/34 [==============================] - 0s 2ms/step - loss: 3646.4805 - mae: 3646.4805\n",
            "Epoch 166/300\n",
            "34/34 [==============================] - 0s 2ms/step - loss: 3531.7581 - mae: 3531.7581\n",
            "Epoch 167/300\n",
            "34/34 [==============================] - 0s 2ms/step - loss: 3551.6670 - mae: 3551.6670\n",
            "Epoch 168/300\n",
            "34/34 [==============================] - 0s 2ms/step - loss: 3545.9275 - mae: 3545.9275\n",
            "Epoch 169/300\n",
            "34/34 [==============================] - 0s 2ms/step - loss: 3562.2637 - mae: 3562.2637\n",
            "Epoch 170/300\n",
            "34/34 [==============================] - 0s 2ms/step - loss: 3550.8677 - mae: 3550.8677\n",
            "Epoch 171/300\n",
            "34/34 [==============================] - 0s 2ms/step - loss: 3564.8069 - mae: 3564.8069\n",
            "Epoch 172/300\n",
            "34/34 [==============================] - 0s 2ms/step - loss: 3639.6912 - mae: 3639.6912\n",
            "Epoch 173/300\n",
            "34/34 [==============================] - 0s 2ms/step - loss: 3539.0974 - mae: 3539.0974\n",
            "Epoch 174/300\n",
            "34/34 [==============================] - 0s 2ms/step - loss: 3526.9167 - mae: 3526.9167\n",
            "Epoch 175/300\n",
            "34/34 [==============================] - 0s 2ms/step - loss: 3568.6292 - mae: 3568.6292\n",
            "Epoch 176/300\n",
            "34/34 [==============================] - 0s 2ms/step - loss: 3589.4438 - mae: 3589.4438\n",
            "Epoch 177/300\n",
            "34/34 [==============================] - 0s 2ms/step - loss: 3559.9707 - mae: 3559.9707\n",
            "Epoch 178/300\n",
            "34/34 [==============================] - 0s 2ms/step - loss: 3560.5466 - mae: 3560.5466\n",
            "Epoch 179/300\n",
            "34/34 [==============================] - 0s 2ms/step - loss: 3678.5183 - mae: 3678.5183\n",
            "Epoch 180/300\n",
            "34/34 [==============================] - 0s 2ms/step - loss: 3580.8005 - mae: 3580.8005\n",
            "Epoch 181/300\n",
            "34/34 [==============================] - 0s 2ms/step - loss: 3581.6648 - mae: 3581.6648\n",
            "Epoch 182/300\n",
            "34/34 [==============================] - 0s 2ms/step - loss: 3544.7354 - mae: 3544.7354\n",
            "Epoch 183/300\n",
            "34/34 [==============================] - 0s 2ms/step - loss: 3558.0334 - mae: 3558.0334\n",
            "Epoch 184/300\n",
            "34/34 [==============================] - 0s 2ms/step - loss: 3572.8286 - mae: 3572.8286\n",
            "Epoch 185/300\n",
            "34/34 [==============================] - 0s 2ms/step - loss: 3559.3589 - mae: 3559.3589\n",
            "Epoch 186/300\n",
            "34/34 [==============================] - 0s 2ms/step - loss: 3642.9731 - mae: 3642.9731\n",
            "Epoch 187/300\n",
            "34/34 [==============================] - 0s 2ms/step - loss: 3561.6169 - mae: 3561.6169\n",
            "Epoch 188/300\n",
            "34/34 [==============================] - 0s 2ms/step - loss: 3545.7839 - mae: 3545.7839\n",
            "Epoch 189/300\n",
            "34/34 [==============================] - 0s 2ms/step - loss: 3567.9104 - mae: 3567.9104\n",
            "Epoch 190/300\n",
            "34/34 [==============================] - 0s 2ms/step - loss: 3548.0000 - mae: 3548.0000\n",
            "Epoch 191/300\n",
            "34/34 [==============================] - 0s 2ms/step - loss: 3553.8572 - mae: 3553.8572\n",
            "Epoch 192/300\n",
            "34/34 [==============================] - 0s 2ms/step - loss: 3633.8291 - mae: 3633.8291\n",
            "Epoch 193/300\n",
            "34/34 [==============================] - 0s 2ms/step - loss: 3588.1521 - mae: 3588.1521\n",
            "Epoch 194/300\n",
            "34/34 [==============================] - 0s 2ms/step - loss: 3531.4138 - mae: 3531.4138\n",
            "Epoch 195/300\n",
            "34/34 [==============================] - 0s 2ms/step - loss: 3574.3325 - mae: 3574.3325\n",
            "Epoch 196/300\n",
            "34/34 [==============================] - 0s 2ms/step - loss: 3536.9348 - mae: 3536.9348\n",
            "Epoch 197/300\n",
            "34/34 [==============================] - 0s 2ms/step - loss: 3625.1638 - mae: 3625.1638\n",
            "Epoch 198/300\n",
            "34/34 [==============================] - 0s 2ms/step - loss: 3573.1667 - mae: 3573.1667\n",
            "Epoch 199/300\n",
            "34/34 [==============================] - 0s 2ms/step - loss: 3558.6875 - mae: 3558.6875\n",
            "Epoch 200/300\n",
            "34/34 [==============================] - 0s 2ms/step - loss: 3519.4536 - mae: 3519.4536\n",
            "Epoch 201/300\n",
            "34/34 [==============================] - 0s 2ms/step - loss: 3634.6492 - mae: 3634.6492\n",
            "Epoch 202/300\n",
            "34/34 [==============================] - 0s 2ms/step - loss: 3556.1968 - mae: 3556.1968\n",
            "Epoch 203/300\n",
            "34/34 [==============================] - 0s 2ms/step - loss: 3573.0334 - mae: 3573.0334\n",
            "Epoch 204/300\n",
            "34/34 [==============================] - 0s 2ms/step - loss: 3608.0544 - mae: 3608.0544\n",
            "Epoch 205/300\n",
            "34/34 [==============================] - 0s 2ms/step - loss: 3524.0898 - mae: 3524.0898\n",
            "Epoch 206/300\n",
            "34/34 [==============================] - 0s 2ms/step - loss: 3524.2310 - mae: 3524.2310\n",
            "Epoch 207/300\n",
            "34/34 [==============================] - 0s 2ms/step - loss: 3561.0894 - mae: 3561.0894\n",
            "Epoch 208/300\n",
            "34/34 [==============================] - 0s 2ms/step - loss: 3556.6294 - mae: 3556.6294\n",
            "Epoch 209/300\n",
            "34/34 [==============================] - 0s 2ms/step - loss: 3560.3147 - mae: 3560.3147\n",
            "Epoch 210/300\n",
            "34/34 [==============================] - 0s 3ms/step - loss: 3637.8467 - mae: 3637.8467\n",
            "Epoch 211/300\n",
            "34/34 [==============================] - 0s 2ms/step - loss: 3584.8430 - mae: 3584.8430\n",
            "Epoch 212/300\n",
            "34/34 [==============================] - 0s 2ms/step - loss: 3558.9099 - mae: 3558.9099\n",
            "Epoch 213/300\n",
            "34/34 [==============================] - 0s 2ms/step - loss: 3522.5591 - mae: 3522.5591\n",
            "Epoch 214/300\n",
            "34/34 [==============================] - 0s 2ms/step - loss: 3524.6938 - mae: 3524.6938\n",
            "Epoch 215/300\n",
            "34/34 [==============================] - 0s 2ms/step - loss: 3686.1604 - mae: 3686.1604\n",
            "Epoch 216/300\n",
            "34/34 [==============================] - 0s 2ms/step - loss: 3543.2080 - mae: 3543.2080\n",
            "Epoch 217/300\n",
            "34/34 [==============================] - 0s 2ms/step - loss: 3549.4231 - mae: 3549.4231\n",
            "Epoch 218/300\n",
            "34/34 [==============================] - 0s 2ms/step - loss: 3581.2886 - mae: 3581.2886\n",
            "Epoch 219/300\n",
            "34/34 [==============================] - 0s 2ms/step - loss: 3555.8147 - mae: 3555.8147\n",
            "Epoch 220/300\n",
            "34/34 [==============================] - 0s 2ms/step - loss: 3543.1597 - mae: 3543.1597\n",
            "Epoch 221/300\n",
            "34/34 [==============================] - 0s 2ms/step - loss: 3611.0737 - mae: 3611.0737\n",
            "Epoch 222/300\n",
            "34/34 [==============================] - 0s 2ms/step - loss: 3758.7585 - mae: 3758.7585\n",
            "Epoch 223/300\n",
            "34/34 [==============================] - 0s 2ms/step - loss: 3615.0442 - mae: 3615.0442\n",
            "Epoch 224/300\n",
            "34/34 [==============================] - 0s 2ms/step - loss: 3565.3149 - mae: 3565.3149\n",
            "Epoch 225/300\n",
            "34/34 [==============================] - 0s 2ms/step - loss: 3599.4731 - mae: 3599.4731\n",
            "Epoch 226/300\n",
            "34/34 [==============================] - 0s 2ms/step - loss: 3604.9746 - mae: 3604.9746\n",
            "Epoch 227/300\n",
            "34/34 [==============================] - 0s 2ms/step - loss: 3569.1953 - mae: 3569.1953\n",
            "Epoch 228/300\n",
            "34/34 [==============================] - 0s 2ms/step - loss: 3536.9788 - mae: 3536.9788\n",
            "Epoch 229/300\n",
            "34/34 [==============================] - 0s 2ms/step - loss: 3528.4304 - mae: 3528.4304\n",
            "Epoch 230/300\n",
            "34/34 [==============================] - 0s 2ms/step - loss: 3592.7222 - mae: 3592.7222\n",
            "Epoch 231/300\n",
            "34/34 [==============================] - 0s 2ms/step - loss: 3526.0991 - mae: 3526.0991\n",
            "Epoch 232/300\n",
            "34/34 [==============================] - 0s 2ms/step - loss: 3534.1289 - mae: 3534.1289\n",
            "Epoch 233/300\n",
            "34/34 [==============================] - 0s 2ms/step - loss: 3521.5254 - mae: 3521.5254\n",
            "Epoch 234/300\n",
            "34/34 [==============================] - 0s 2ms/step - loss: 3529.8889 - mae: 3529.8889\n",
            "Epoch 235/300\n",
            "34/34 [==============================] - 0s 2ms/step - loss: 3543.8499 - mae: 3543.8499\n",
            "Epoch 236/300\n",
            "34/34 [==============================] - 0s 2ms/step - loss: 3602.6599 - mae: 3602.6599\n",
            "Epoch 237/300\n",
            "34/34 [==============================] - 0s 2ms/step - loss: 3555.5200 - mae: 3555.5200\n",
            "Epoch 238/300\n",
            "34/34 [==============================] - 0s 2ms/step - loss: 3519.9268 - mae: 3519.9268\n",
            "Epoch 239/300\n",
            "34/34 [==============================] - 0s 2ms/step - loss: 3575.6531 - mae: 3575.6531\n",
            "Epoch 240/300\n",
            "34/34 [==============================] - 0s 2ms/step - loss: 3589.4749 - mae: 3589.4749\n",
            "Epoch 241/300\n",
            "34/34 [==============================] - 0s 2ms/step - loss: 3527.3994 - mae: 3527.3994\n",
            "Epoch 242/300\n",
            "34/34 [==============================] - 0s 2ms/step - loss: 3563.9424 - mae: 3563.9424\n",
            "Epoch 243/300\n",
            "34/34 [==============================] - 0s 2ms/step - loss: 3566.6050 - mae: 3566.6050\n",
            "Epoch 244/300\n",
            "34/34 [==============================] - 0s 2ms/step - loss: 3507.7783 - mae: 3507.7783\n",
            "Epoch 245/300\n",
            "34/34 [==============================] - 0s 2ms/step - loss: 3657.6538 - mae: 3657.6538\n",
            "Epoch 246/300\n",
            "34/34 [==============================] - 0s 2ms/step - loss: 3566.7788 - mae: 3566.7788\n",
            "Epoch 247/300\n",
            "34/34 [==============================] - 0s 2ms/step - loss: 3535.6865 - mae: 3535.6865\n",
            "Epoch 248/300\n",
            "34/34 [==============================] - 0s 2ms/step - loss: 3591.9309 - mae: 3591.9309\n",
            "Epoch 249/300\n",
            "34/34 [==============================] - 0s 3ms/step - loss: 3534.3943 - mae: 3534.3943\n",
            "Epoch 250/300\n",
            "34/34 [==============================] - 0s 2ms/step - loss: 3585.7659 - mae: 3585.7659\n",
            "Epoch 251/300\n",
            "34/34 [==============================] - 0s 2ms/step - loss: 3532.8491 - mae: 3532.8491\n",
            "Epoch 252/300\n",
            "34/34 [==============================] - 0s 2ms/step - loss: 3553.4448 - mae: 3553.4448\n",
            "Epoch 253/300\n",
            "34/34 [==============================] - 0s 2ms/step - loss: 3631.7930 - mae: 3631.7930\n",
            "Epoch 254/300\n",
            "34/34 [==============================] - 0s 2ms/step - loss: 3542.8472 - mae: 3542.8472\n",
            "Epoch 255/300\n",
            "34/34 [==============================] - 0s 2ms/step - loss: 3527.9768 - mae: 3527.9768\n",
            "Epoch 256/300\n",
            "34/34 [==============================] - 0s 2ms/step - loss: 3513.3359 - mae: 3513.3359\n",
            "Epoch 257/300\n",
            "34/34 [==============================] - 0s 3ms/step - loss: 3531.1724 - mae: 3531.1724\n",
            "Epoch 258/300\n",
            "34/34 [==============================] - 0s 2ms/step - loss: 3527.9189 - mae: 3527.9189\n",
            "Epoch 259/300\n",
            "34/34 [==============================] - 0s 2ms/step - loss: 3567.8206 - mae: 3567.8206\n",
            "Epoch 260/300\n",
            "34/34 [==============================] - 0s 2ms/step - loss: 3527.1873 - mae: 3527.1873\n",
            "Epoch 261/300\n",
            "34/34 [==============================] - 0s 2ms/step - loss: 3580.6589 - mae: 3580.6589\n",
            "Epoch 262/300\n",
            "34/34 [==============================] - 0s 2ms/step - loss: 3559.8452 - mae: 3559.8452\n",
            "Epoch 263/300\n",
            "34/34 [==============================] - 0s 2ms/step - loss: 3616.4700 - mae: 3616.4700\n",
            "Epoch 264/300\n",
            "34/34 [==============================] - 0s 2ms/step - loss: 3681.8752 - mae: 3681.8752\n",
            "Epoch 265/300\n",
            "34/34 [==============================] - 0s 2ms/step - loss: 3552.0310 - mae: 3552.0310\n",
            "Epoch 266/300\n",
            "34/34 [==============================] - 0s 2ms/step - loss: 3562.6428 - mae: 3562.6428\n",
            "Epoch 267/300\n",
            "34/34 [==============================] - 0s 2ms/step - loss: 3571.5771 - mae: 3571.5771\n",
            "Epoch 268/300\n",
            "34/34 [==============================] - 0s 2ms/step - loss: 3530.8396 - mae: 3530.8396\n",
            "Epoch 269/300\n",
            "34/34 [==============================] - 0s 2ms/step - loss: 3554.3813 - mae: 3554.3813\n",
            "Epoch 270/300\n",
            "34/34 [==============================] - 0s 2ms/step - loss: 3608.1313 - mae: 3608.1313\n",
            "Epoch 271/300\n",
            "34/34 [==============================] - 0s 2ms/step - loss: 3521.0898 - mae: 3521.0898\n",
            "Epoch 272/300\n",
            "34/34 [==============================] - 0s 2ms/step - loss: 3531.9187 - mae: 3531.9187\n",
            "Epoch 273/300\n",
            "34/34 [==============================] - 0s 2ms/step - loss: 3626.7715 - mae: 3626.7715\n",
            "Epoch 274/300\n",
            "34/34 [==============================] - 0s 2ms/step - loss: 3637.4373 - mae: 3637.4373\n",
            "Epoch 275/300\n",
            "34/34 [==============================] - 0s 2ms/step - loss: 3627.6470 - mae: 3627.6470\n",
            "Epoch 276/300\n",
            "34/34 [==============================] - 0s 2ms/step - loss: 3570.3328 - mae: 3570.3328\n",
            "Epoch 277/300\n",
            "34/34 [==============================] - 0s 2ms/step - loss: 3533.9749 - mae: 3533.9749\n",
            "Epoch 278/300\n",
            "34/34 [==============================] - 0s 2ms/step - loss: 3524.0894 - mae: 3524.0894\n",
            "Epoch 279/300\n",
            "34/34 [==============================] - 0s 2ms/step - loss: 3591.2676 - mae: 3591.2676\n",
            "Epoch 280/300\n",
            "34/34 [==============================] - 0s 3ms/step - loss: 3589.6292 - mae: 3589.6292\n",
            "Epoch 281/300\n",
            "34/34 [==============================] - 0s 2ms/step - loss: 3594.3398 - mae: 3594.3398\n",
            "Epoch 282/300\n",
            "34/34 [==============================] - 0s 2ms/step - loss: 3535.5864 - mae: 3535.5864\n",
            "Epoch 283/300\n",
            "34/34 [==============================] - 0s 2ms/step - loss: 3502.3623 - mae: 3502.3623\n",
            "Epoch 284/300\n",
            "34/34 [==============================] - 0s 2ms/step - loss: 3521.8513 - mae: 3521.8513\n",
            "Epoch 285/300\n",
            "34/34 [==============================] - 0s 2ms/step - loss: 3562.0723 - mae: 3562.0723\n",
            "Epoch 286/300\n",
            "34/34 [==============================] - 0s 2ms/step - loss: 3603.7637 - mae: 3603.7637\n",
            "Epoch 287/300\n",
            "34/34 [==============================] - 0s 2ms/step - loss: 3611.2717 - mae: 3611.2717\n",
            "Epoch 288/300\n",
            "34/34 [==============================] - 0s 2ms/step - loss: 3541.5562 - mae: 3541.5562\n",
            "Epoch 289/300\n",
            "34/34 [==============================] - 0s 2ms/step - loss: 3527.0273 - mae: 3527.0273\n",
            "Epoch 290/300\n",
            "34/34 [==============================] - 0s 2ms/step - loss: 3574.7720 - mae: 3574.7720\n",
            "Epoch 291/300\n",
            "34/34 [==============================] - 0s 2ms/step - loss: 3559.6758 - mae: 3559.6758\n",
            "Epoch 292/300\n",
            "34/34 [==============================] - 0s 2ms/step - loss: 3590.4316 - mae: 3590.4316\n",
            "Epoch 293/300\n",
            "34/34 [==============================] - 0s 2ms/step - loss: 3550.8665 - mae: 3550.8665\n",
            "Epoch 294/300\n",
            "34/34 [==============================] - 0s 2ms/step - loss: 3551.0586 - mae: 3551.0586\n",
            "Epoch 295/300\n",
            "34/34 [==============================] - 0s 2ms/step - loss: 3557.9434 - mae: 3557.9434\n",
            "Epoch 296/300\n",
            "34/34 [==============================] - 0s 2ms/step - loss: 3553.7925 - mae: 3553.7925\n",
            "Epoch 297/300\n",
            "34/34 [==============================] - 0s 2ms/step - loss: 3551.9043 - mae: 3551.9043\n",
            "Epoch 298/300\n",
            "34/34 [==============================] - 0s 2ms/step - loss: 3548.9810 - mae: 3548.9810\n",
            "Epoch 299/300\n",
            "34/34 [==============================] - 0s 2ms/step - loss: 3547.2729 - mae: 3547.2729\n",
            "Epoch 300/300\n",
            "34/34 [==============================] - 0s 3ms/step - loss: 3583.1182 - mae: 3583.1182\n"
          ],
          "name": "stdout"
        }
      ]
    },
    {
      "cell_type": "code",
      "metadata": {
        "colab": {
          "base_uri": "https://localhost:8080/"
        },
        "id": "c_Ia6gK910F6",
        "outputId": "73599786-5594-4f21-c631-8d6a84fd8318"
      },
      "source": [
        "insurance_model.evaluate(X_test_standard,y_test)"
      ],
      "execution_count": null,
      "outputs": [
        {
          "output_type": "stream",
          "text": [
            "9/9 [==============================] - 0s 2ms/step - loss: 3189.4971 - mae: 3189.4971\n"
          ],
          "name": "stdout"
        },
        {
          "output_type": "execute_result",
          "data": {
            "text/plain": [
              "[3189.4970703125, 3189.4970703125]"
            ]
          },
          "metadata": {
            "tags": []
          },
          "execution_count": 96
        }
      ]
    },
    {
      "cell_type": "code",
      "metadata": {
        "id": "BuIEOnbt20kK"
      },
      "source": [
        "#Q4\n",
        "#import the data set\n",
        "(X_train, y_train), (X_test, y_test) = tf.keras.datasets.boston_housing.load_data(\n",
        "    path='boston_housing.npz', test_split=0.2, seed=113\n",
        ")"
      ],
      "execution_count": null,
      "outputs": []
    },
    {
      "cell_type": "code",
      "metadata": {
        "colab": {
          "base_uri": "https://localhost:8080/"
        },
        "id": "qHrR0zYj3xiA",
        "outputId": "e94ae837-a61b-4463-ab9f-06132e53569c"
      },
      "source": [
        "\n",
        "tf.random.set_seed(42)\n",
        "\n",
        "model_4 = tf.keras.Sequential([\n",
        "  tf.keras.layers.Dense(200),\n",
        "  tf.keras.layers.Dense(50),\n",
        "  tf.keras.layers.Dense(25),\n",
        "  tf.keras.layers.Dense(1),\n",
        "])\n",
        "\n",
        "model_4.compile(loss = 'mae',\n",
        "                optimizer = tf.keras.optimizers.Adam(),\n",
        "                metrics = 'mae')\n",
        "\n",
        "history_4 = model_4.fit(X_train, y_train,epochs = 50)"
      ],
      "execution_count": null,
      "outputs": [
        {
          "output_type": "stream",
          "text": [
            "Epoch 1/50\n",
            "13/13 [==============================] - 1s 3ms/step - loss: 61.6093 - mae: 61.6093\n",
            "Epoch 2/50\n",
            "13/13 [==============================] - 0s 3ms/step - loss: 19.6643 - mae: 19.6643\n",
            "Epoch 3/50\n",
            "13/13 [==============================] - 0s 2ms/step - loss: 10.5158 - mae: 10.5158\n",
            "Epoch 4/50\n",
            "13/13 [==============================] - 0s 3ms/step - loss: 8.9653 - mae: 8.9653\n",
            "Epoch 5/50\n",
            "13/13 [==============================] - 0s 3ms/step - loss: 8.0953 - mae: 8.0953\n",
            "Epoch 6/50\n",
            "13/13 [==============================] - 0s 3ms/step - loss: 6.8434 - mae: 6.8434\n",
            "Epoch 7/50\n",
            "13/13 [==============================] - 0s 3ms/step - loss: 6.6580 - mae: 6.6580\n",
            "Epoch 8/50\n",
            "13/13 [==============================] - 0s 3ms/step - loss: 5.9183 - mae: 5.9183\n",
            "Epoch 9/50\n",
            "13/13 [==============================] - 0s 3ms/step - loss: 6.4787 - mae: 6.4787\n",
            "Epoch 10/50\n",
            "13/13 [==============================] - 0s 3ms/step - loss: 7.8173 - mae: 7.8173\n",
            "Epoch 11/50\n",
            "13/13 [==============================] - 0s 3ms/step - loss: 6.4825 - mae: 6.4825\n",
            "Epoch 12/50\n",
            "13/13 [==============================] - 0s 3ms/step - loss: 5.8360 - mae: 5.8360\n",
            "Epoch 13/50\n",
            "13/13 [==============================] - 0s 3ms/step - loss: 6.4364 - mae: 6.4364\n",
            "Epoch 14/50\n",
            "13/13 [==============================] - 0s 3ms/step - loss: 7.9235 - mae: 7.9235\n",
            "Epoch 15/50\n",
            "13/13 [==============================] - 0s 3ms/step - loss: 6.8040 - mae: 6.8040\n",
            "Epoch 16/50\n",
            "13/13 [==============================] - 0s 3ms/step - loss: 5.9470 - mae: 5.9470\n",
            "Epoch 17/50\n",
            "13/13 [==============================] - 0s 4ms/step - loss: 6.9287 - mae: 6.9287\n",
            "Epoch 18/50\n",
            "13/13 [==============================] - 0s 3ms/step - loss: 6.0119 - mae: 6.0119\n",
            "Epoch 19/50\n",
            "13/13 [==============================] - 0s 3ms/step - loss: 9.1553 - mae: 9.1553\n",
            "Epoch 20/50\n",
            "13/13 [==============================] - 0s 3ms/step - loss: 6.7179 - mae: 6.7179\n",
            "Epoch 21/50\n",
            "13/13 [==============================] - 0s 3ms/step - loss: 6.9607 - mae: 6.9607\n",
            "Epoch 22/50\n",
            "13/13 [==============================] - 0s 3ms/step - loss: 6.9797 - mae: 6.9797\n",
            "Epoch 23/50\n",
            "13/13 [==============================] - 0s 3ms/step - loss: 6.0381 - mae: 6.0381\n",
            "Epoch 24/50\n",
            "13/13 [==============================] - 0s 3ms/step - loss: 5.8305 - mae: 5.8305\n",
            "Epoch 25/50\n",
            "13/13 [==============================] - 0s 3ms/step - loss: 5.2505 - mae: 5.2505\n",
            "Epoch 26/50\n",
            "13/13 [==============================] - 0s 3ms/step - loss: 5.8795 - mae: 5.8795\n",
            "Epoch 27/50\n",
            "13/13 [==============================] - 0s 2ms/step - loss: 5.4542 - mae: 5.4542\n",
            "Epoch 28/50\n",
            "13/13 [==============================] - 0s 3ms/step - loss: 7.0056 - mae: 7.0056\n",
            "Epoch 29/50\n",
            "13/13 [==============================] - 0s 3ms/step - loss: 7.5405 - mae: 7.5405\n",
            "Epoch 30/50\n",
            "13/13 [==============================] - 0s 3ms/step - loss: 6.3463 - mae: 6.3463\n",
            "Epoch 31/50\n",
            "13/13 [==============================] - 0s 3ms/step - loss: 5.9646 - mae: 5.9646\n",
            "Epoch 32/50\n",
            "13/13 [==============================] - 0s 3ms/step - loss: 5.7273 - mae: 5.7273\n",
            "Epoch 33/50\n",
            "13/13 [==============================] - 0s 3ms/step - loss: 6.0691 - mae: 6.0691\n",
            "Epoch 34/50\n",
            "13/13 [==============================] - 0s 4ms/step - loss: 5.2200 - mae: 5.2200\n",
            "Epoch 35/50\n",
            "13/13 [==============================] - 0s 3ms/step - loss: 5.6939 - mae: 5.6939\n",
            "Epoch 36/50\n",
            "13/13 [==============================] - 0s 3ms/step - loss: 5.4402 - mae: 5.4402\n",
            "Epoch 37/50\n",
            "13/13 [==============================] - 0s 3ms/step - loss: 5.0713 - mae: 5.0713\n",
            "Epoch 38/50\n",
            "13/13 [==============================] - 0s 3ms/step - loss: 6.1837 - mae: 6.1837\n",
            "Epoch 39/50\n",
            "13/13 [==============================] - 0s 5ms/step - loss: 6.5254 - mae: 6.5254\n",
            "Epoch 40/50\n",
            "13/13 [==============================] - 0s 3ms/step - loss: 7.1642 - mae: 7.1642\n",
            "Epoch 41/50\n",
            "13/13 [==============================] - 0s 4ms/step - loss: 5.3419 - mae: 5.3419\n",
            "Epoch 42/50\n",
            "13/13 [==============================] - 0s 3ms/step - loss: 5.2451 - mae: 5.2451\n",
            "Epoch 43/50\n",
            "13/13 [==============================] - 0s 3ms/step - loss: 4.8492 - mae: 4.8492\n",
            "Epoch 44/50\n",
            "13/13 [==============================] - 0s 3ms/step - loss: 5.4952 - mae: 5.4952\n",
            "Epoch 45/50\n",
            "13/13 [==============================] - 0s 4ms/step - loss: 5.9767 - mae: 5.9767\n",
            "Epoch 46/50\n",
            "13/13 [==============================] - 0s 4ms/step - loss: 5.6098 - mae: 5.6098\n",
            "Epoch 47/50\n",
            "13/13 [==============================] - 0s 3ms/step - loss: 5.4651 - mae: 5.4651\n",
            "Epoch 48/50\n",
            "13/13 [==============================] - 0s 4ms/step - loss: 4.9802 - mae: 4.9802\n",
            "Epoch 49/50\n",
            "13/13 [==============================] - 0s 3ms/step - loss: 5.3045 - mae: 5.3045\n",
            "Epoch 50/50\n",
            "13/13 [==============================] - 0s 3ms/step - loss: 5.4061 - mae: 5.4061\n"
          ],
          "name": "stdout"
        }
      ]
    },
    {
      "cell_type": "code",
      "metadata": {
        "colab": {
          "base_uri": "https://localhost:8080/",
          "height": 297
        },
        "id": "FCV6B1sH4Xyd",
        "outputId": "6c4d4f5c-d833-49d4-cf1a-fde0bf72f532"
      },
      "source": [
        "pd.DataFrame(history_4.history).plot()\n",
        "plt.xlabel(\"epochs\")\n",
        "plt.ylabel(\"loss\")\n"
      ],
      "execution_count": null,
      "outputs": [
        {
          "output_type": "execute_result",
          "data": {
            "text/plain": [
              "Text(0, 0.5, 'loss')"
            ]
          },
          "metadata": {
            "tags": []
          },
          "execution_count": 111
        },
        {
          "output_type": "display_data",
          "data": {
            "image/png": "[encoded data removed]",
            "text/plain": [
              "<Figure size 432x288 with 1 Axes>"
            ]
          },
          "metadata": {
            "tags": [],
            "needs_background": "light"
          }
        }
      ]
    },
    {
      "cell_type": "code",
      "metadata": {
        "colab": {
          "base_uri": "https://localhost:8080/"
        },
        "id": "UgIowCGc5Rff",
        "outputId": "d86d124d-5cfa-4167-bf06-e8a04c6b123c"
      },
      "source": [
        "model_4.evaluate(X_test,y_test)"
      ],
      "execution_count": null,
      "outputs": [
        {
          "output_type": "stream",
          "text": [
            "4/4 [==============================] - 0s 4ms/step - loss: 4.9437 - mae: 4.9437\n"
          ],
          "name": "stdout"
        },
        {
          "output_type": "execute_result",
          "data": {
            "text/plain": [
              "[4.94366455078125, 4.94366455078125]"
            ]
          },
          "metadata": {
            "tags": []
          },
          "execution_count": 112
        }
      ]
    },
    {
      "cell_type": "markdown",
      "metadata": {
        "id": "-EWGDYyt5Xdd"
      },
      "source": [
        "# Extra-Curriculum"
      ]
    },
    {
      "cell_type": "code",
      "metadata": {
        "id": "wdkN69nr6Ftg"
      },
      "source": [
        ""
      ],
      "execution_count": null,
      "outputs": []
    }
  ]
}